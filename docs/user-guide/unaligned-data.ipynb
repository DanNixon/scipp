{
 "cells": [
  {
   "cell_type": "markdown",
   "metadata": {},
   "source": [
    "# Unaligned Data\n",
    "\n",
    "## Introduction\n",
    "\n",
    "Scipp supports features for *realigning* \"unaligned\" data.\n",
    "Unaligned data in this context refers to data values at irregularly placed in, e.g., space or time.\n",
    "Realignment lets us:\n",
    "\n",
    "- Map a table of position-based data to an X-Y-Z grid.\n",
    "- Map a table of position-based to an angle such as $\\theta$.\n",
    "- Map event time stamps to time bins.\n",
    "\n",
    "The key feature here is that *realignment does not actually histogram or resample data*.\n",
    "Data is kept in its original form.\n",
    "The realignment just adds a wrapper with a coordinate system more adequate for working with the scientic data.\n",
    "Where possible, operations with the realigned wrapper are supported \"as if\" working with dense histogrammed data.\n",
    "\n",
    "## Concept\n",
    "\n",
    "We outline the underlying concepts based on a simple example."
   ]
  },
  {
   "cell_type": "code",
   "execution_count": null,
   "metadata": {},
   "outputs": [],
   "source": [
    "import scipp as sc\n",
    "import numpy as np\n",
    "from scipp.plot import plot\n",
    "import matplotlib.pyplot as plt\n",
    "\n",
    "np.random.seed(1) # Fixed for reproducibility"
   ]
  },
  {
   "cell_type": "markdown",
   "metadata": {},
   "source": [
    "Consider a list of measurements at various \"points\" in space.\n",
    "Here we restrict ourselves to the X-Y plane for visualization purposes:"
   ]
  },
  {
   "cell_type": "code",
   "execution_count": null,
   "metadata": {},
   "outputs": [],
   "source": [
    "N = 50\n",
    "values = 10*np.random.rand(N)\n",
    "data = sc.DataArray(\n",
    "    data=sc.Variable(dims=['position'], unit=sc.units.counts, values=values, variances=values),\n",
    "    coords={\n",
    "        'position':sc.Variable(dims=['position'], values=['site-{}'.format(i) for i in range(N)]),\n",
    "        'x':sc.Variable(dims=['position'], unit=sc.units.m, values=np.random.rand(N)),\n",
    "        'y':sc.Variable(dims=['position'], unit=sc.units.m, values=np.random.rand(N))})\n",
    "data"
   ]
  },
  {
   "cell_type": "markdown",
   "metadata": {},
   "source": [
    "For every point we measured at the auxiliary coordinates `'x'` and `'y'` give the position in the X-Y plane.\n",
    "These are *not* dimension-coordinates, since our measurements are *not* on a 2-D grid, but rather points with an irregular distribution.\n",
    "`data` is essentially a 1-D table of measurements.\n",
    "We can plot this data:"
   ]
  },
  {
   "cell_type": "code",
   "execution_count": null,
   "metadata": {},
   "outputs": [],
   "source": [
    "plot(data)"
   ]
  },
  {
   "cell_type": "markdown",
   "metadata": {},
   "source": [
    "The `'position'` dimension is not a continuous dimension but essentially just a row in our table.\n",
    "In practice, such a figure and this representation of data in general may therefore not be very useful.\n",
    "\n",
    "As an alternative view of our data we can create a scatter plot.\n",
    "We do this explicitly here to demonstrate how the content of `data` is connected to elements of the figure:"
   ]
  },
  {
   "cell_type": "code",
   "execution_count": null,
   "metadata": {},
   "outputs": [],
   "source": [
    "fig = plt.figure()\n",
    "scatter = plt.scatter(\n",
    "    x=data.coords['x'].values,\n",
    "    y=data.coords['y'].values,\n",
    "    c=data.values)\n",
    "ax = fig.gca()\n",
    "ax.set_xlabel('x [{}]'.format(data.coords['x'].unit))\n",
    "ax.set_ylabel('y [{}]'.format(data.coords['y'].unit))\n",
    "cbar = plt.colorbar(scatter)\n",
    "cbar.set_label(\"[{}]\".format(data.unit))\n",
    "plt.show()"
   ]
  },
  {
   "cell_type": "markdown",
   "metadata": {},
   "source": [
    "This shows the distribution in space, but for real datasets with millions of points this may not be convenient.\n",
    "Furthermore, operating with scattered data is often inconvenient and may require knownledge of the underlying representation.\n",
    "\n",
    "We can now use `scipp.realign` to provide a more accessible wrapper for our data:"
   ]
  },
  {
   "cell_type": "code",
   "execution_count": null,
   "metadata": {},
   "outputs": [],
   "source": [
    "xbins = sc.Variable(dims=['x'], unit=sc.units.m, values=[0.1,0.5,0.9])\n",
    "ybins = sc.Variable(dims=['y'], unit=sc.units.m, values=[0.1,0.5,0.9])\n",
    "realigned = sc.realign(data, {'x':xbins, 'y':ybins})\n",
    "realigned"
   ]
  },
  {
   "cell_type": "markdown",
   "metadata": {},
   "source": [
    "`realigned` is a 2-D data array, but it contains the orignal \"unaligned\" data, accessible through the `unaligned` property:"
   ]
  },
  {
   "cell_type": "code",
   "execution_count": null,
   "metadata": {},
   "outputs": [],
   "source": [
    "realigned.unaligned"
   ]
  },
  {
   "cell_type": "markdown",
   "metadata": {},
   "source": [
    "The \"realignment\" proceedure based on bin edges for `'x'` and `'y'` is *not* performing the actual histogramming step.\n",
    "However, since its dimensions are defined by the bin-edge coordinates for `'x'` and `'y'`, we will see below that it behaves much like normal dense data for operations such as slicing.\n",
    "\n",
    "We create another figure to better illustrate the structure of `realigned`:"
   ]
  },
  {
   "cell_type": "code",
   "execution_count": null,
   "metadata": {
    "scrolled": false
   },
   "outputs": [],
   "source": [
    "fig = plt.figure()\n",
    "scatter = plt.scatter(\n",
    "    x=realigned.unaligned.coords['x'].values,\n",
    "    y=realigned.unaligned.coords['y'].values,\n",
    "    c=realigned.unaligned.values)\n",
    "ax = fig.gca()\n",
    "ax.set_xlabel('x [{}]'.format(realigned.coords['x'].unit))\n",
    "ax.set_ylabel('y [{}]'.format(realigned.coords['y'].unit))\n",
    "ax.set_xticks(realigned.coords['x'].values)\n",
    "ax.set_yticks(realigned.coords['y'].values)\n",
    "plt.grid()\n",
    "cbar = fig.colorbar(scatter)\n",
    "cbar.set_label(\"[{}]\".format(data.unit))\n",
    "plt.show()"
   ]
  },
  {
   "cell_type": "markdown",
   "metadata": {},
   "source": [
    "This is essentially the same figure as the scatter plot for the original `data`.\n",
    "The only difference is the \"grid\" (the bin edges) that is stored alongside the data.\n",
    "`realigned` can now directly be histogrammed, without the need for specifying bin boundaries:"
   ]
  },
  {
   "cell_type": "code",
   "execution_count": null,
   "metadata": {},
   "outputs": [],
   "source": [
    "plot(sc.histogram(realigned))"
   ]
  },
  {
   "cell_type": "markdown",
   "metadata": {},
   "source": [
    "Here `histogram` performs histogramming for all \"realigned\" dimension, in this case `x` and `y`.\n",
    "The resulting values in the X-Y bins are the counts accumulated from measurements at all points falling in a given bin."
   ]
  }
 ],
 "metadata": {
  "kernelspec": {
   "display_name": "Python 3",
   "language": "python",
   "name": "python3"
  },
  "language_info": {
   "codemirror_mode": {
    "name": "ipython",
    "version": 3
   },
   "file_extension": ".py",
   "mimetype": "text/x-python",
   "name": "python",
   "nbconvert_exporter": "python",
   "pygments_lexer": "ipython3",
   "version": "3.7.3"
  }
 },
 "nbformat": 4,
 "nbformat_minor": 4
}
