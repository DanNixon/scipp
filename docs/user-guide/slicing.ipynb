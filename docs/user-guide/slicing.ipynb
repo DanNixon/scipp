{
 "cells": [
  {
   "cell_type": "markdown",
   "metadata": {},
   "source": [
    "# Slicing\n",
    "\n",
    "Data in a [Variable](../generated/scipp.Variable.rst#scipp.Variable) or [Dataset](../generated/scipp.Dataset.rst#scipp.Dataset) can be indexed in a similar manner to NumPy and xarray.\n",
    "The dimension to be sliced is specified using a dimension label and, in contrast to NumPy, positional dimension lookup is not available.\n",
    "Positional indexing with an integer or an integer range is using `__getitem__` and `__setitem__` with a dimension label as first argument.\n",
    "This is available for variables, datasets, as well as items of a dataset.\n",
    "In all cases a *view* is returned, i.e., just like when slicing a [numpy.ndarray](https://docs.scipy.org/doc/numpy/reference/generated/numpy.ndarray.html#numpy.ndarray) no copy is performed.\n",
    "\n",
    "## Basic slicing\n",
    "\n",
    "Consider the following variable:"
   ]
  },
  {
   "cell_type": "code",
   "execution_count": null,
   "metadata": {},
   "outputs": [],
   "source": [
    "import numpy as np\n",
    "import scipp as sc\n",
    "from scipp.plot import plot\n",
    "\n",
    "var = sc.Variable(\n",
    "    dims=['z', 'y', 'x'],\n",
    "    values=np.random.rand(2, 3, 4),\n",
    "    variances=np.random.rand(2, 3, 4))\n",
    "sc.show(var)"
   ]
  },
  {
   "cell_type": "markdown",
   "metadata": {},
   "source": [
    "As when slicing a `numpy.ndarray`, the dimension `'x'` is removed since no range is specified:"
   ]
  },
  {
   "cell_type": "code",
   "execution_count": null,
   "metadata": {},
   "outputs": [],
   "source": [
    "s = var['x', 1]\n",
    "sc.show(s)\n",
    "print(s.dims, s.shape)"
   ]
  },
  {
   "cell_type": "markdown",
   "metadata": {},
   "source": [
    "When a range is specified, the dimension is kept, even if it has extent 1:"
   ]
  },
  {
   "cell_type": "code",
   "execution_count": null,
   "metadata": {
    "scrolled": false
   },
   "outputs": [],
   "source": [
    "s = var['x', 1:3]\n",
    "sc.show(s)\n",
    "print(s.dims, s.shape)\n",
    "\n",
    "s = var['x', 1:2]\n",
    "sc.show(s)\n",
    "print(s.dims, s.shape)"
   ]
  },
  {
   "cell_type": "markdown",
   "metadata": {},
   "source": [
    "Slicing can be chained arbitrarily:"
   ]
  },
  {
   "cell_type": "code",
   "execution_count": null,
   "metadata": {
    "scrolled": true
   },
   "outputs": [],
   "source": [
    "s = var['x', 1:4]['y', 2]['x', 1]\n",
    "sc.show(s)\n",
    "print(s.dims, s.shape)"
   ]
  },
  {
   "cell_type": "markdown",
   "metadata": {},
   "source": [
    "Slicing for datasets works in the same way, but some additional rules apply:"
   ]
  },
  {
   "cell_type": "code",
   "execution_count": null,
   "metadata": {},
   "outputs": [],
   "source": [
    "d = sc.Dataset(\n",
    "    {'a': sc.Variable(dims=['x', 'y'], values=np.random.rand(2, 3)),\n",
    "     'b': sc.Variable(dims=['y', 'x'], values=np.random.rand(3, 2)),\n",
    "     'c': sc.Variable(dims=['x'], values=np.random.rand(2)),\n",
    "     '0d-data': sc.Variable(1.0)},\n",
    "    coords={\n",
    "        'x': sc.Variable(['x'], values=np.arange(2.0), unit=sc.units.m),\n",
    "        'y': sc.Variable(['y'], values=np.arange(3.0), unit=sc.units.m),\n",
    "        'aux_x': sc.Variable(['x'], values=np.arange(2.0), unit=sc.units.m),\n",
    "        'aux_y': sc.Variable(['y'], values=np.arange(3.0), unit=sc.units.m)})\n",
    "sc.show(d)"
   ]
  },
  {
   "cell_type": "markdown",
   "metadata": {},
   "source": [
    "As when slicing a variable, the sliced dimension is removed when slicing without range, and kept when slicing with range.\n",
    "\n",
    "When slicing a dataset a number of other things happen as well:\n",
    "\n",
    "- Any data item that does not depend on the sliced dimension is removed.\n",
    "- Slicing **without range**:\n",
    "  - The *coordinates* for the sliced dimension are *removed*.\n",
    "- Slicing **with a range**:\n",
    "  - The *coordinates* for the sliced dimension are *kept*.\n",
    "\n",
    "\n",
    "This is an important aspect and it is worthwhile to take some time and think through the mechanism.\n",
    "Consider the following example, contrasting slicing with and without range:\n",
    "\n",
    "- We slice dimension `'x'`, so the data item `'0d-data'` which does not depend on dimension `'x'` is not visible in the slice views.\n",
    "- In the second case (without range) the coord for dimension `'x'` is also not part of the slice view\n",
    "\n",
    "Make sure to inspect the `dims` and `shape` of all variable (data and coordinates) of the resulting slice views (note the tooltip shown when moving the mouse over the name also contains this information):"
   ]
  },
  {
   "cell_type": "code",
   "execution_count": null,
   "metadata": {},
   "outputs": [],
   "source": [
    "# Range of length 1\n",
    "sc.show(d['x', 1:2])\n",
    "d['x', 1:2]"
   ]
  },
  {
   "cell_type": "code",
   "execution_count": null,
   "metadata": {},
   "outputs": [],
   "source": [
    "# No range\n",
    "sc.show(d['x', 1])\n",
    "d['x', 1]"
   ]
  },
  {
   "cell_type": "markdown",
   "metadata": {},
   "source": [
    "Slicing a data item of a dataset should not bring any surprises.\n",
    "Essentially this behaves like slicing a dataset with just a single data item:"
   ]
  },
  {
   "cell_type": "code",
   "execution_count": null,
   "metadata": {},
   "outputs": [],
   "source": [
    "sc.show(d['a']['x', 1:2])"
   ]
  },
  {
   "cell_type": "markdown",
   "metadata": {},
   "source": [
    "Slicing and item access can be done in arbitrary order with identical results:"
   ]
  },
  {
   "cell_type": "code",
   "execution_count": null,
   "metadata": {},
   "outputs": [],
   "source": [
    "d['x', 1:2]['a'] == d['a']['x', 1:2]\n",
    "d['x', 1:2]['a'].coords['x'] == d.coords['x']['x', 1:2]"
   ]
  },
  {
   "cell_type": "markdown",
   "metadata": {},
   "source": [
    "## Slicing tools\n",
    "\n",
    "Scipp provides a couple of tools that can be used to split a multi-dimensional Dataset or DataArray into a `dict` of slices.\n",
    "\n",
    "### scipp.slices\n",
    "\n",
    "The first slices a Scipp object along a given dimension:"
   ]
  },
  {
   "cell_type": "code",
   "execution_count": null,
   "metadata": {},
   "outputs": [],
   "source": [
    "N = 40\n",
    "M = 3\n",
    "L = 2\n",
    "x = np.arange(N).astype(np.float64)\n",
    "b = 0.5 * N\n",
    "a = 4.0 * np.random.random([L, M, N])\n",
    "a[1, 1, :] = np.abs(10.0 * np.cos((x - b) * 2.0 / b))\n",
    "v = 0.1 * np.random.random([L, M, N])\n",
    "d1 = sc.Dataset()\n",
    "d1.coords['x'] = sc.Variable(['x'], values=x, unit=sc.units.us)\n",
    "d1.coords['y'] = sc.Variable(['y'],\n",
    "                             values=np.arange(M).astype(np.float64),\n",
    "                             unit=sc.units.m)\n",
    "d1.coords['z'] = sc.Variable(['z'],\n",
    "                             values=np.arange(L).astype(np.float64),\n",
    "                             unit=sc.units.m)\n",
    "d1['a'] = sc.Variable(['z', 'y', 'x'], values=a, variances=v)\n",
    "d1"
   ]
  },
  {
   "cell_type": "code",
   "execution_count": null,
   "metadata": {
    "scrolled": false
   },
   "outputs": [],
   "source": [
    "sliced = sc.slices(d1['a'], dim='z')\n",
    "plot(sliced)"
   ]
  },
  {
   "cell_type": "markdown",
   "metadata": {},
   "source": [
    "### scipp.collapse\n",
    "\n",
    "The second method slices down the input object until only the supplied `keep` dimension is left, returning a `dict` of 1D slices. This is often useful if for instance most detector pixels contain noise, but one specific channel contains a strong signal."
   ]
  },
  {
   "cell_type": "code",
   "execution_count": null,
   "metadata": {},
   "outputs": [],
   "source": [
    "collapsed = sc.collapse(d1['a'], keep='x')\n",
    "plot(collapsed)"
   ]
  }
 ],
 "metadata": {
  "kernelspec": {
   "display_name": "Python 3",
   "language": "python",
   "name": "python3"
  },
  "language_info": {
   "codemirror_mode": {
    "name": "ipython",
    "version": 3
   },
   "file_extension": ".py",
   "mimetype": "text/x-python",
   "name": "python",
   "nbconvert_exporter": "python",
   "pygments_lexer": "ipython3",
   "version": "3.7.6"
  }
 },
 "nbformat": 4,
 "nbformat_minor": 2
}
