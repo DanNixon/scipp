{
 "cells": [
  {
   "cell_type": "markdown",
   "metadata": {},
   "source": [
    "# Concepts\n",
    "\n",
    "## DataArray and Dataset slicing"
   ]
  },
  {
   "cell_type": "code",
   "execution_count": null,
   "metadata": {},
   "outputs": [],
   "source": [
    "import numpy as np\n",
    "import scipp as sc\n",
    "\n",
    "x = sc.Variable(dims=['x'], values=[1,2,3,4])\n",
    "da = sc.DataArray(data=x,\n",
    "                  coords={'x':x},\n",
    "                  masks={'x':sc.less(x, 2 * sc.units.one)})\n",
    "ds = sc.Dataset({'a':da})"
   ]
  },
  {
   "cell_type": "markdown",
   "metadata": {},
   "source": [
    "Consider a data array `da` and a dataset `ds` with an aligned coord and an aligned mask.\n",
    "The following conditions must hold:"
   ]
  },
  {
   "cell_type": "code",
   "execution_count": null,
   "metadata": {},
   "outputs": [],
   "source": [
    "assert 'x' in da['x', 0:1].coords # range slice preserves coord as aligned\n",
    "assert 'x' in da['x', 0:1].masks # range slice preserves coord as aligned\n",
    "assert 'x' in da['x', 0].attrs # todo, should be unaligned coord\n",
    "#assert 'x' in da['x', 0].coords # todo, point slice preserves coord as unaligned\n",
    "#assert 'x' in da['x', 0].masks # todo, point slice preserves masks as aligned"
   ]
  },
  {
   "cell_type": "code",
   "execution_count": null,
   "metadata": {},
   "outputs": [],
   "source": [
    "assert ds['a']['x', 0:1] == ds['x', 0:1]['a']\n",
    "assert ds['a']['x', 0] == ds['x', 0]['a']"
   ]
  },
  {
   "cell_type": "code",
   "execution_count": null,
   "metadata": {},
   "outputs": [],
   "source": [
    "assert 'x' in ds['a'].coords\n",
    "assert 'x' in ds['x', 0:1].coords\n",
    "assert 'x' not in ds['x', 0].coords # cannot have unaligned coord in dataset\n",
    "assert 'x' in ds['x', 0:1]['a'].coords\n",
    "assert 'x' in ds['a']['x', 0].attrs # todo, should be unaligned coord\n",
    "#assert 'x' in ds['x', 0]['a'].coords # todo\n",
    "\n",
    "assert 'x' in ds['a'].masks\n",
    "assert 'x' in ds['x', 0:1].masks\n",
    "#assert 'x' in ds['x', 0].masks # todo, should stay aligned mask\n",
    "assert 'x' in ds['x', 0:1]['a'].masks\n",
    "#assert 'x' in ds['a']['x', 0].masks # todo, should stay aligned mask\n",
    "#assert 'x' in ds['x', 0]['a'].masks # todo, should stay aligned mask"
   ]
  },
  {
   "cell_type": "markdown",
   "metadata": {},
   "source": [
    "In operations, aligned coords are compared:"
   ]
  },
  {
   "cell_type": "code",
   "execution_count": null,
   "metadata": {},
   "outputs": [],
   "source": [
    "try:\n",
    "    ok = da['x', 0:1] + da['x', 1:2]\n",
    "except:\n",
    "    ok = False\n",
    "assert not ok"
   ]
  },
  {
   "cell_type": "markdown",
   "metadata": {},
   "source": [
    "Mismatching unaligned coords are dropped:"
   ]
  },
  {
   "cell_type": "code",
   "execution_count": null,
   "metadata": {},
   "outputs": [],
   "source": [
    "#assert da + da['x', 0] == da + da['x', 0].data # todo"
   ]
  },
  {
   "cell_type": "markdown",
   "metadata": {},
   "source": [
    "A missing unaligned coord is interpreted as mismatch to ensure that:"
   ]
  },
  {
   "cell_type": "code",
   "execution_count": null,
   "metadata": {},
   "outputs": [],
   "source": [
    "a = da['x', 0]\n",
    "b = da['x', 1]\n",
    "c = da['x', 2]\n",
    "assert a + (b + c) == (a + b) + c"
   ]
  },
  {
   "cell_type": "markdown",
   "metadata": {},
   "source": [
    "Insertion order does not matter for unaligned coords:"
   ]
  },
  {
   "cell_type": "code",
   "execution_count": null,
   "metadata": {},
   "outputs": [],
   "source": [
    "a = da.copy()\n",
    "a.attrs['x'] = 1.0 * sc.units.m # todo, should be unaligned coord\n",
    "b = da.copy()\n",
    "b.attrs['x'] = 2.0 * sc.units.m # todo, should be unaligned coord\n",
    "ds1 = sc.Dataset()\n",
    "ds2 = sc.Dataset()\n",
    "ds1['a'] = a\n",
    "ds1['b'] = b\n",
    "ds2['b'] = b\n",
    "ds2['a'] = a\n",
    "assert ds1 == ds2"
   ]
  },
  {
   "cell_type": "markdown",
   "metadata": {},
   "source": [
    "Insert into dataset with mismatching unaligned coord drops unaligned:"
   ]
  },
  {
   "cell_type": "code",
   "execution_count": null,
   "metadata": {},
   "outputs": [],
   "source": [
    "ds = sc.Dataset()\n",
    "ds.coords['x'] = x['x', 0]\n",
    "ds['a'] = da['x', 1] # todo should drop 'x' from 'a' (currently preserved since attrs are distinct from coords)\n",
    "assert ds.coords['x'] == ds['a'].coords['x'] # shadowing should NOT be supported"
   ]
  },
  {
   "cell_type": "markdown",
   "metadata": {},
   "source": [
    "Insertion with aligned and unaligned masks:"
   ]
  },
  {
   "cell_type": "code",
   "execution_count": null,
   "metadata": {},
   "outputs": [],
   "source": [
    "ds = sc.Dataset()\n",
    "ds.masks['x'] = sc.less(x, 2 * sc.units.one) # aligned mask\n",
    "masked = da.copy()\n",
    "masked.masks['x'] = sc.less(x, 1 * sc.units.one) # aligned mask\n",
    "try:\n",
    "    ds['a'] = masked # mismatching aligned mask\n",
    "except:\n",
    "    ok = True\n",
    "else:\n",
    "    ok = False\n",
    "assert ok\n",
    "\n",
    "#masked.masks['x'].align = False # todo, enable when unaligned masks supported\n",
    "try:\n",
    "    # Note difference to coords, where unaligned coord is dropped\n",
    "    ds['a'] = masked # shadowing should NOT be supported\n",
    "except:\n",
    "    ok = True\n",
    "else:\n",
    "    ok = False\n",
    "assert ok\n",
    "\n",
    "ds = sc.Dataset()\n",
    "masked = da.copy()\n",
    "masked.masks['x'] = sc.less(x, 1 * sc.units.one) # aligned mask\n",
    "#masked.masks['x'].align = False # todo, enable when unaligned masks supported\n",
    "ds['a'] = masked\n",
    "masked.masks['x'] = sc.less(x, 2 * sc.units.one) # aligned mask\n",
    "#masked.masks['x'].align = False # todo, enable when unaligned masks supported\n",
    "#ds['b'] = masked # todo, enable when unaligned masks supported\n",
    "#assert 'x' not in ds.masks # todo, enable when unaligned masks supported\n",
    "#assert ds['a'].masks['x'] != ds['b'].masks['x'] # todo, enable when unaligned masks supported"
   ]
  },
  {
   "cell_type": "markdown",
   "metadata": {},
   "source": [
    "If there is no aligned coord it is preserved for all items:"
   ]
  },
  {
   "cell_type": "code",
   "execution_count": null,
   "metadata": {},
   "outputs": [],
   "source": [
    "ds = sc.Dataset()\n",
    "ds['a'] = da['x', 0]\n",
    "# ds['b'] = da['x', 1] # todo\n",
    "assert 'x' not in ds.coords\n",
    "assert 'x' in ds['a'].attrs # todo, should be unaligned coord\n",
    "#assert 'x' in ds['b'].attrs # todo, should be unaligned coord\n",
    "try:\n",
    "    ds.coords['x'] = x['x', 0] # would introduce shadowing\n",
    "except:\n",
    "    ok = True\n",
    "else:\n",
    "    ok = False\n",
    "#assert ok # todo"
   ]
  },
  {
   "cell_type": "code",
   "execution_count": null,
   "metadata": {},
   "outputs": [],
   "source": [
    "edges = sc.Variable(dims=['x'], values=[1,2,3,4,5])\n",
    "da.coords['x'] = edges\n",
    "assert sc.concatenate(da['x', :2], da['x', 2:], 'x') == da\n",
    "#assert sc.concatenate(da['x', 0], da['x', 1], 'x') == da['x', 0:2] # todo, concat of unaligned should give aligned, at least for dimension-coords\n",
    "#assert sc.concatenate(da['x', :-1], da['x', -1], 'x') == da # todo, attr should be unaligned coord and concate of aligned and unaligned should work\n",
    "da_yx = sc.concatenate(da['x', :2], da['x', 2:], 'y') # create 2-D coord\n",
    "assert da_yx.coords['x'] == sc.concatenate(da.coords['x']['x', :3], da.coords['x']['x', 2:], 'y')"
   ]
  },
  {
   "cell_type": "markdown",
   "metadata": {},
   "source": [
    "2-D coords for a dimension prevent operations between slices that are not along that dimension:"
   ]
  },
  {
   "cell_type": "code",
   "execution_count": null,
   "metadata": {},
   "outputs": [],
   "source": [
    "da_2d = sc.DataArray(\n",
    "    data=sc.Variable(['y', 'x'], shape=[2, 2]),\n",
    "    coords={\n",
    "        'x':sc.Variable(['y', 'x'], values=np.array([[1, 2], [3, 4]])),\n",
    "        'y':sc.Variable(['y'], values=[3, 4])})\n",
    "\n",
    "da_2d['x', 0] + da_2d['x', 1] # Same as with 1-D coord: x-coord differs but not aligned due to slice.\n",
    "try:\n",
    "    # 'y' sliced, so 'x' coord is aligned and yields different values from slices of 2-D coord.\n",
    "    da_2d['y', 0] + da_2d['y', 1] \n",
    "except RuntimeError:\n",
    "    ok = False\n",
    "else:\n",
    "    ok = True\n",
    "assert not ok"
   ]
  }
 ],
 "metadata": {
  "kernelspec": {
   "display_name": "Python 3",
   "language": "python",
   "name": "python3"
  },
  "language_info": {
   "codemirror_mode": {
    "name": "ipython",
    "version": 3
   },
   "file_extension": ".py",
   "mimetype": "text/x-python",
   "name": "python",
   "nbconvert_exporter": "python",
   "pygments_lexer": "ipython3",
   "version": "3.7.3"
  }
 },
 "nbformat": 4,
 "nbformat_minor": 4
}
