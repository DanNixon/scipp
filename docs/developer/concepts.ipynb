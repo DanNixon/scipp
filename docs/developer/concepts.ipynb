{
 "cells": [
  {
   "cell_type": "markdown",
   "metadata": {},
   "source": [
    "# Concepts\n",
    "\n",
    "## DataArray and Dataset slicing"
   ]
  },
  {
   "cell_type": "code",
   "execution_count": null,
   "metadata": {},
   "outputs": [],
   "source": [
    "import scipp as sc\n",
    "\n",
    "x = sc.Variable(dims=['x'], values=[1,2,3,4])\n",
    "da = sc.DataArray(data=x,\n",
    "                 coords={'x':x},\n",
    "                 masks={'x':sc.less(x, 2 * sc.units.one)})\n",
    "ds = sc.Dataset({'a':da})\n"
   ]
  },
  {
   "cell_type": "markdown",
   "metadata": {},
   "source": [
    "Consider a data array `da` and a dataset `ds` with an aligned coord and an aligned mask.\n",
    "The following conditions must hold:"
   ]
  },
  {
   "cell_type": "code",
   "execution_count": null,
   "metadata": {},
   "outputs": [],
   "source": [
    "assert 'x' in da['x', 0:1].coords # range slice preserves coord as aligned\n",
    "assert 'x' in da['x', 0:1].masks # range slice preserves coord as aligned\n",
    "assert 'x' in da['x', 0].attrs # todo, should be unaligned coord\n",
    "#assert 'x' in da['x', 0].coords # todo, point slice preserves coord as unaligned\n",
    "#assert 'x' in da['x', 0].masks # todo, point slice preserves masks as aligned"
   ]
  },
  {
   "cell_type": "code",
   "execution_count": null,
   "metadata": {},
   "outputs": [],
   "source": [
    "assert ds['a']['x', 0:1] == ds['x', 0:1]['a']\n",
    "assert ds['a']['x', 0] == ds['x', 0]['a']"
   ]
  },
  {
   "cell_type": "code",
   "execution_count": null,
   "metadata": {},
   "outputs": [],
   "source": [
    "assert 'x' in ds['a'].coords\n",
    "assert 'x' in ds['x', 0:1].coords\n",
    "assert 'x' not in ds['x', 0].coords # cannot have unaligned coord in dataset\n",
    "assert 'x' in ds['x', 0:1]['a'].coords\n",
    "assert 'x' in ds['a']['x', 0].attrs # todo, should be unaligned coord\n",
    "#assert 'x' in ds['x', 0]['a'].coords # todo\n",
    "\n",
    "assert 'x' in ds['a'].masks\n",
    "assert 'x' in ds['x', 0:1].masks\n",
    "#assert 'x' in ds['x', 0].masks # todo, should stay aligned mask\n",
    "assert 'x' in ds['x', 0:1]['a'].masks\n",
    "#assert 'x' in ds['a']['x', 0].masks # todo, should stay aligned mask\n",
    "#assert 'x' in ds['x', 0]['a'].masks # todo, should stay aligned mask"
   ]
  },
  {
   "cell_type": "markdown",
   "metadata": {},
   "source": [
    "In operations, aligned coords are compared:"
   ]
  },
  {
   "cell_type": "code",
   "execution_count": null,
   "metadata": {},
   "outputs": [],
   "source": [
    "try:\n",
    "    ok = da['x', 0:1] + da['x', 1:2]\n",
    "except:\n",
    "    ok = False\n",
    "assert not ok"
   ]
  },
  {
   "cell_type": "markdown",
   "metadata": {},
   "source": [
    "Mismatching unaligned coords are dropped:"
   ]
  },
  {
   "cell_type": "code",
   "execution_count": null,
   "metadata": {},
   "outputs": [],
   "source": [
    "assert da + da['x', 0] == da + da['x', 0].data"
   ]
  },
  {
   "cell_type": "markdown",
   "metadata": {},
   "source": [
    "A missing unaligned coord is interpreted as mismatch to ensure that:"
   ]
  },
  {
   "cell_type": "code",
   "execution_count": null,
   "metadata": {},
   "outputs": [],
   "source": [
    "a = da['x', 0]\n",
    "b = da['x', 1]\n",
    "c = da['x', 2]\n",
    "assert a + (b + c) == (a + b) + c"
   ]
  },
  {
   "cell_type": "markdown",
   "metadata": {},
   "source": [
    "Insertion order does not matter for unaligned coords:"
   ]
  },
  {
   "cell_type": "code",
   "execution_count": null,
   "metadata": {},
   "outputs": [],
   "source": [
    "a = da.copy()\n",
    "a.attrs['x'] = 1.0 * sc.units.m # todo, should be unaligned coord\n",
    "b = da.copy()\n",
    "b.attrs['x'] = 2.0 * sc.units.m # todo, should be unaligned coord\n",
    "ds1 = sc.Dataset()\n",
    "ds2 = sc.Dataset()\n",
    "ds1['a'] = a\n",
    "ds1['b'] = b\n",
    "ds2['b'] = b\n",
    "ds2['a'] = a\n",
    "assert ds1 == ds2"
   ]
  },
  {
   "cell_type": "code",
   "execution_count": null,
   "metadata": {},
   "outputs": [],
   "source": [
    "edges = sc.Variable(dims=['x'], values=[1,2,3,4,5])\n",
    "da.coords['x'] = edges\n",
    "assert sc.concatenate(da['x', :2], da['x', 2:], 'x') == da\n",
    "#assert sc.concatenate(da['x', 0], da['x', 1], 'x') == da['x', 0:2] # todo, concat of unaligned should give aligned, at least for dimension-coords\n",
    "#assert sc.concatenate(da['x', :-1], da['x', -1], 'x') == da # todo, attr should be unaligned coord and concate of aligned and unaligned should work"
   ]
  },
  {
   "cell_type": "markdown",
   "metadata": {},
   "source": [
    "Check slicing of 2D coords:"
   ]
  },
  {
   "cell_type": "code",
   "execution_count": null,
   "metadata": {},
   "outputs": [],
   "source": [
    "import numpy as np\n",
    "\n",
    "var_y = sc.Variable(['y'], values=[3, 4], unit=sc.units.dimensionless)\n",
    "var_yx= sc.Variable(['y', 'x'], values=np.arange(10).reshape(2,5), unit=sc.units.angstrom)\n",
    "data_yx= sc.Variable(['y', 'x'], values=np.flip(np.arange(10.0).reshape(2,5)), unit=sc.units.counts)\n",
    "da = sc.DataArray(data=data_yx, coords={'x':var_yx,'y':var_y})\n",
    "\n",
    "da['x', 0] + da['x', 1] # Allowed y-coord same. x-coord differ but not aligned. Correct behaviour\n",
    "try:\n",
    "    da['y', 0] + da['y', 1] # Not allowed x-coords aligned and differ. Correct behaviour\n",
    "except RuntimeError:\n",
    "    ok = False\n",
    "else:\n",
    "    ok = True\n",
    "assert not ok"
   ]
  },
  {
   "cell_type": "code",
   "execution_count": null,
   "metadata": {},
   "outputs": [],
   "source": []
  }
 ],
 "metadata": {
  "kernelspec": {
   "display_name": "Python 3",
   "language": "python",
   "name": "python3"
  },
  "language_info": {
   "codemirror_mode": {
    "name": "ipython",
    "version": 3
   },
   "file_extension": ".py",
   "mimetype": "text/x-python",
   "name": "python",
   "nbconvert_exporter": "python",
   "pygments_lexer": "ipython3",
   "version": "3.7.3"
  }
 },
 "nbformat": 4,
 "nbformat_minor": 4
}
