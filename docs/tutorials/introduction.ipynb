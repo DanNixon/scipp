{
 "cells": [
  {
   "cell_type": "markdown",
   "metadata": {},
   "source": [
    "# 1-D datasets and tables\n",
    "\n",
    "**Multi-dimensional data arrays with labeled dimensions using scipp**\n",
    "\n",
    "`scipp` is heavily inspired by `xarray`. While for many applications `xarray` is certainly more suitable (and definitely much more matured) than `scipp`, there is a number of features missing in other situations. If your use case requires one or several of the items on the following list, using `scipp` may be worth considering:\n",
    "\n",
    "- Handling of physical units.\n",
    "- Propagation of uncertainties.\n",
    "- Support for histograms, i.e. bin-edge axes, which are by 1 longer than the data extent.\n",
    "- Support for event data, a particular form of sparse data with 1-D (or N-D) arrays of random-length lists, with very small list entries.\n",
    "- Written in C++ for better performance (for certain applications), in combination with Python bindings.\n",
    "\n",
    "This notebook demonstrates key functionality and usage of the `scipp` library. See the [documentation](https://scipp.github.io/) for more information.\n",
    "\n",
    "## Getting started\n",
    "### What is a `Dataset`?\n",
    "The central data container in `scipp` is called a `Dataset`.\n",
    "There are two basic analogies to aid in thinking about a `Dataset`:\n",
    "\n",
    "1. As a `dict` of `numpy.ndarray`s, with the addition of named dimensions and units.\n",
    "2. As a table.\n",
    "\n",
    "### Creating a dataset"
   ]
  },
  {
   "cell_type": "code",
   "execution_count": 1,
   "metadata": {},
   "outputs": [
    {
     "data": {
      "text/html": [
       "<style>.output_wrapper .ui-dialog-titlebar {display: none;}</style>"
      ],
      "text/plain": [
       "<IPython.core.display.HTML object>"
      ]
     },
     "metadata": {},
     "output_type": "display_data"
    }
   ],
   "source": [
    "import numpy as np\n",
    "import scipp as sc"
   ]
  },
  {
   "cell_type": "markdown",
   "metadata": {},
   "source": [
    "We start by creating an empty dataset:"
   ]
  },
  {
   "cell_type": "code",
   "execution_count": 2,
   "metadata": {},
   "outputs": [
    {
     "data": {
      "text/html": [
       "<div><!-- Original source from -->\n",
       "<!-- https://github.com/jsignell/xarray/blob/1d960933ab252e0f79f7e050e6c9261d55568057/xarray/static/html/icons-svg-inline.html -->\n",
       "<svg style=\"position: absolute; width: 0; height: 0; overflow: hidden\">\n",
       "<defs>\n",
       "<symbol id=\"icon-database\" viewBox=\"0 0 32 32\">\n",
       "<title>Show/Hide data repr</title>\n",
       "<path d=\"M16 0c-8.837 0-16 2.239-16 5v4c0 2.761 7.163 5 16 5s16-2.239 16-5v-4c0-2.761-7.163-5-16-5z\"></path>\n",
       "<path d=\"M16 17c-8.837 0-16-2.239-16-5v6c0 2.761 7.163 5 16 5s16-2.239 16-5v-6c0 2.761-7.163 5-16 5z\"></path>\n",
       "<path d=\"M16 26c-8.837 0-16-2.239-16-5v6c0 2.761 7.163 5 16 5s16-2.239 16-5v-6c0 2.761-7.163 5-16 5z\"></path>\n",
       "</symbol>\n",
       "<symbol id=\"icon-file-text2\" viewBox=\"0 0 32 32\">\n",
       "<title>Show/Hide attributes</title>\n",
       "<path d=\"M28.681 7.159c-0.694-0.947-1.662-2.053-2.724-3.116s-2.169-2.030-3.116-2.724c-1.612-1.182-2.393-1.319-2.841-1.319h-15.5c-1.378 0-2.5 1.121-2.5 2.5v27c0 1.378 1.122 2.5 2.5 2.5h23c1.378 0 2.5-1.122 2.5-2.5v-19.5c0-0.448-0.137-1.23-1.319-2.841zM24.543 5.457c0.959 0.959 1.712 1.825 2.268 2.543h-4.811v-4.811c0.718 0.556 1.584 1.309 2.543 2.268zM28 29.5c0 0.271-0.229 0.5-0.5 0.5h-23c-0.271 0-0.5-0.229-0.5-0.5v-27c0-0.271 0.229-0.5 0.5-0.5 0 0 15.499-0 15.5 0v7c0 0.552 0.448 1 1 1h7v19.5z\"></path>\n",
       "<path d=\"M23 26h-14c-0.552 0-1-0.448-1-1s0.448-1 1-1h14c0.552 0 1 0.448 1 1s-0.448 1-1 1z\"></path>\n",
       "<path d=\"M23 22h-14c-0.552 0-1-0.448-1-1s0.448-1 1-1h14c0.552 0 1 0.448 1 1s-0.448 1-1 1z\"></path>\n",
       "<path d=\"M23 18h-14c-0.552 0-1-0.448-1-1s0.448-1 1-1h14c0.552 0 1 0.448 1 1s-0.448 1-1 1z\"></path>\n",
       "</symbol>\n",
       "</defs>\n",
       "</svg><style>/* CSS stylesheet for displaying xarray objects in jupyterlab.\n",
       "* Original source from\n",
       "* https://github.com/jsignell/xarray/blob/1d960933ab252e0f79f7e050e6c9261d55568057/xarray/static/css/style.css\n",
       "*/\n",
       "\n",
       ".xr-wrap {\n",
       "  font-size: 14px;\n",
       "  min-width: 300px;\n",
       "  max-width: 800px;\n",
       "}\n",
       "\n",
       "/* The CSS styling for the inline attributes table */\n",
       ".xr-var-attrs .xr-wrap{\n",
       "  padding-left: 3em;\n",
       "}\n",
       "\n",
       ".xr-header {\n",
       "  padding-top: 6px;\n",
       "  padding-bottom: 6px;\n",
       "  margin-bottom: 4px;\n",
       "  border-bottom: solid 1px #ddd;\n",
       "}\n",
       "\n",
       ".xr-header > div,\n",
       ".xr-header > ul {\n",
       "  display: inline;\n",
       "  margin-top: 0;\n",
       "  margin-bottom: 0;\n",
       "}\n",
       "\n",
       ".xr-obj-type,\n",
       ".xr-array-name {\n",
       "  margin-left: 2px;\n",
       "  margin-right: 10px;\n",
       "}\n",
       "\n",
       ".xr-obj-type {\n",
       "  color: #555;\n",
       "}\n",
       "\n",
       ".xr-array-name {\n",
       "  color: #000;\n",
       "}\n",
       "\n",
       ".xr-sections {\n",
       "  padding-left: 0 !important;\n",
       "  display: grid;\n",
       "  grid-template-columns: 150px auto auto auto 1fr 20px 20px;\n",
       "}\n",
       "\n",
       ".xr-section-item {\n",
       "  display: contents;\n",
       "}\n",
       "\n",
       ".xr-section-item input {\n",
       "  display: none;\n",
       "}\n",
       "\n",
       ".xr-section-item input + label {\n",
       "  color: #ccc;\n",
       "}\n",
       "\n",
       ".xr-section-item input:enabled + label {\n",
       "  cursor: pointer;\n",
       "  color: #555;\n",
       "}\n",
       "\n",
       ".xr-section-item input:enabled + label:hover {\n",
       "  color: #000;\n",
       "}\n",
       "\n",
       ".xr-section-summary {\n",
       "  grid-column: 1;\n",
       "  color: #555;\n",
       "  font-weight: 500;\n",
       "}\n",
       "\n",
       ".xr-section-summary > span {\n",
       "  display: inline-block;\n",
       "  padding-left: 0.5em;\n",
       "}\n",
       "\n",
       ".xr-section-summary-in:disabled + label {\n",
       "  color: #555;\n",
       "}\n",
       "\n",
       ".xr-section-summary-in + label:before {\n",
       "  display: inline-block;\n",
       "  content: '►';\n",
       "  font-size: 11px;\n",
       "  width: 15px;\n",
       "  text-align: center;\n",
       "}\n",
       "\n",
       ".xr-section-summary-in:disabled + label:before {\n",
       "  color: #ccc;\n",
       "}\n",
       "\n",
       ".xr-section-summary-in:checked + label:before {\n",
       "  content: '▼';\n",
       "}\n",
       "\n",
       ".xr-section-summary-in:checked + label > span {\n",
       "  display: none;\n",
       "}\n",
       "\n",
       ".xr-section-summary,\n",
       ".xr-section-inline-details {\n",
       "  padding-top: 4px;\n",
       "  padding-bottom: 4px;\n",
       "}\n",
       "\n",
       ".xr-section-inline-details {\n",
       "  grid-column: 2 / 5;\n",
       "}\n",
       "\n",
       ".xr-section-details {\n",
       "  display: none;\n",
       "  grid-column: 1 / -1;\n",
       "  margin-bottom: 5px;\n",
       "}\n",
       "\n",
       ".xr-section-summary-in:checked ~ .xr-section-details {\n",
       "  display: contents;\n",
       "}\n",
       "\n",
       ".xr-array-wrap {\n",
       "  grid-column: 1 / -1;\n",
       "  display: grid;\n",
       "  grid-template-columns: 20px auto;\n",
       "}\n",
       "\n",
       ".xr-array-wrap > label {\n",
       "  grid-column: 1;\n",
       "  vertical-align: top;\n",
       "}\n",
       "\n",
       ".xr-preview {\n",
       "  color: #888;\n",
       "}\n",
       "\n",
       ".xr-array-preview,\n",
       ".xr-array-data {\n",
       "  padding: 0 5px !important;\n",
       "  grid-column: 2;\n",
       "}\n",
       "\n",
       ".xr-array-data,\n",
       ".xr-array-in:checked ~ .xr-array-preview {\n",
       "  display: none;\n",
       "}\n",
       "\n",
       ".xr-array-in:checked ~ .xr-array-data,\n",
       ".xr-array-preview {\n",
       "  display: inline-block;\n",
       "}\n",
       "\n",
       ".xr-dim-list {\n",
       "  display: inline-block !important;\n",
       "  list-style: none;\n",
       "  padding: 0 !important;\n",
       "  margin: 0;\n",
       "}\n",
       "\n",
       ".xr-dim-list li {\n",
       "  display: inline-block;\n",
       "  padding: 0;\n",
       "  margin: 0!important;\n",
       "}\n",
       "\n",
       ".xr-dim-list:before {\n",
       "  content: '(';\n",
       "}\n",
       "\n",
       ".xr-dim-list:after {\n",
       "  content: ')';\n",
       "}\n",
       "\n",
       ".xr-dim-list li:not(:last-child):after {\n",
       "  content: ',';\n",
       "  padding-right: 5px;\n",
       "}\n",
       "\n",
       ".xr-has-index {\n",
       "  font-weight: bold;\n",
       "}\n",
       "\n",
       ".xr-var-list,\n",
       ".xr-var-item {\n",
       "  display: contents;\n",
       "}\n",
       "\n",
       ".xr-var-item > div,\n",
       ".xr-var-item label,\n",
       ".xr-var-item > .xr-var-name span {\n",
       "  background-color: #fcfcfc;\n",
       "  margin-bottom: 0;\n",
       "}\n",
       "\n",
       ".xr-var-item > .xr-var-name:hover span {\n",
       "  padding-right: 5px;\n",
       "}\n",
       "\n",
       ".xr-var-list > li:nth-child(odd) > div,\n",
       ".xr-var-list > li:nth-child(odd) > label,\n",
       ".xr-var-list > li:nth-child(odd) > .xr-var-name span {\n",
       "  background-color: #efefef;\n",
       "}\n",
       "\n",
       ".xr-var-name {\n",
       "  grid-column: 1;\n",
       "}\n",
       "\n",
       ".xr-var-dims {\n",
       "  grid-column: 2;\n",
       "}\n",
       "\n",
       ".xr-var-dtype {\n",
       "  grid-column: 3;\n",
       "  text-align: right;\n",
       "  color: #555;\n",
       "}\n",
       ".xr-var-unit{\n",
       "  grid-column: 4;\n",
       "  text-align: left;\n",
       "  color: #222;\n",
       "}\n",
       ".xr-value-preview {\n",
       "  grid-column: 5;\n",
       "}\n",
       ".xr-var-preview-variances{\n",
       "  text-align:right;\n",
       "}\n",
       "\n",
       ".xr-var-name,\n",
       ".xr-var-dims,\n",
       ".xr-var-dtype,\n",
       ".xr-var-unit,\n",
       ".xr-preview,\n",
       ".xr-attrs dt {\n",
       "  white-space: nowrap;\n",
       "  overflow: hidden;\n",
       "  text-overflow: ellipsis;\n",
       "  padding-right: 10px;\n",
       "}\n",
       "\n",
       ".xr-var-name:hover,\n",
       ".xr-var-dims:hover,\n",
       ".xr-var-dtype:hover,\n",
       ".xr-var-unit:hover,\n",
       ".xr-attrs dt:hover {\n",
       "  overflow: visible;\n",
       "  width: auto;\n",
       "  z-index: 1;\n",
       "}\n",
       "\n",
       ".xr-var-attrs {\n",
       "  display: block;\n",
       "}\n",
       ".xr-var-data {\n",
       "  display: none;\n",
       "}\n",
       ".xr-var-attrs,\n",
       ".xr-var-data {\n",
       "  background-color: #fff !important;\n",
       "  padding-bottom: 5px !important;\n",
       "}\n",
       "\n",
       ".xr-var-attrs-in:checked ~ .xr-var-attrs {\n",
       "  display: none;\n",
       "}\n",
       ".xr-var-data-in:checked ~ .xr-var-data {\n",
       "  display: block;\n",
       "}\n",
       "\n",
       ".xr-var-data > table {\n",
       "  float: right;\n",
       "}\n",
       "\n",
       ".xr-var-name span,\n",
       ".xr-var-data,\n",
       ".xr-attrs {\n",
       "  padding-left: 25px !important;\n",
       "}\n",
       "\n",
       ".xr-attrs,\n",
       ".xr-var-attrs,\n",
       ".xr-var-data {\n",
       "  grid-column: 1 / -1;\n",
       "}\n",
       "\n",
       "dl.xr-attrs {\n",
       "  padding: 0;\n",
       "  margin: 0;\n",
       "  display: grid;\n",
       "  grid-template-columns: 125px auto;\n",
       "}\n",
       "\n",
       ".xr-attrs dt, dd {\n",
       "  padding: 0;\n",
       "  margin: 0;\n",
       "  float: left;\n",
       "  padding-right: 10px;\n",
       "  width: auto;\n",
       "}\n",
       "\n",
       ".xr-attrs dt {\n",
       "  font-weight: normal;\n",
       "  grid-column: 1;\n",
       "}\n",
       "\n",
       ".xr-attrs dt:hover span {\n",
       "  display: inline-block;\n",
       "  background: #fff;\n",
       "  padding-right: 10px;\n",
       "}\n",
       "\n",
       ".xr-attrs dd {\n",
       "  grid-column: 2;\n",
       "  white-space: pre-wrap;\n",
       "  word-break: break-all;\n",
       "}\n",
       "\n",
       ".xr-icon-database,\n",
       ".xr-icon-file-text2 {\n",
       "  display: inline-block;\n",
       "  vertical-align: middle;\n",
       "  width: 1em;\n",
       "  height: 1.5em !important;\n",
       "  stroke-width: 0;\n",
       "  stroke: currentColor;\n",
       "  fill: currentColor;\n",
       "}\n",
       "\n",
       "/*\n",
       "Classes below are added for scipp. Where possible\n",
       "the prefix is changed to \"sc\" to make it easier to distinguish.\n",
       "*/\n",
       "label.xr-hide-icon svg{\n",
       "  opacity: 0;\n",
       "}\n",
       "\n",
       ".sc-section-header{\n",
       "  color:#555;\n",
       "  margin: auto 0;\n",
       "}\n",
       "\n",
       ".sc-section-header-text{\n",
       "  display:inline-block;\n",
       "  vertical-align: middle;\n",
       "  /* matches the margin from  xr-section-item */\n",
       "  margin-bottom: 5px;\n",
       "}\n",
       "\n",
       ".sc-var-name{\n",
       "  grid-column: 1/3;\n",
       "}\n",
       "\n",
       ".sc-var-name span{\n",
       "  padding-left: 25px;\n",
       "  padding-right:10px;\n",
       "}</style><div class='xr-wrap'><div class='xr-header'><div class='xr-obj-type'>scipp.Dataset</div></div><ul class='xr-sections'><li class='xr-section-item'><input id='section-b4ab4f5f-713f-4ff3-96c8-407744c3e416' class='xr-section-summary-in' type='checkbox' disabled ><label for='section-b4ab4f5f-713f-4ff3-96c8-407744c3e416' class='xr-section-summary'  title='Expand/collapse section'>Dimensions:</label><div class='xr-section-inline-details'></div><div class='xr-section-details'></div></li><li class='xr-section-item'><input id='section-d4cc8d3f-9c7f-41d1-869c-14e58b07b49c' class='xr-section-summary-in' type='checkbox' disabled ><label for='section-d4cc8d3f-9c7f-41d1-869c-14e58b07b49c' class='xr-section-summary'  title='Expand/collapse section'>Data: <span>(0)</span></label><div class='xr-section-inline-details'></div><div class='xr-section-details'><ul class='xr-var-list'></ul></div></li></ul></div></div>"
      ],
      "text/plain": [
       "<scipp.Dataset>\n",
       "Dimensions: {}\n"
      ]
     },
     "execution_count": 2,
     "metadata": {},
     "output_type": "execute_result"
    }
   ],
   "source": [
    "d = sc.Dataset()\n",
    "d"
   ]
  },
  {
   "cell_type": "markdown",
   "metadata": {},
   "source": [
    "### Using `Dataset` as a table\n",
    "We can not only think about a dataset as a table, we can also use it as one.\n",
    "This will demonstrate the basic ways of creating datasets and interacting with them.\n",
    "Columns can be added one by one:"
   ]
  },
  {
   "cell_type": "code",
   "execution_count": 3,
   "metadata": {
    "scrolled": false
   },
   "outputs": [
    {
     "data": {
      "application/vnd.jupyter.widget-view+json": {
       "model_id": "5741c5b4a2cc4b359c61bb230111b678",
       "version_major": 2,
       "version_minor": 0
      },
      "text/plain": [
       "VBox(children=(HTML(value=\"<span style='font-weight:bold;font-size:1.5em;'>Dataset</span>\"), VBox(children=(HT…"
      ]
     },
     "metadata": {},
     "output_type": "display_data"
    }
   ],
   "source": [
    "d.coords['row'] = sc.Variable(dims=['row'], values=np.arange(3))\n",
    "d['alice'] = sc.Variable(dims=['row'], values=[1.0,1.1,1.2],\n",
    "                         variances=[0.01,0.01,0.02], unit=sc.units.m)\n",
    "sc.table(d)"
   ]
  },
  {
   "cell_type": "markdown",
   "metadata": {},
   "source": [
    "Here the coord acts as a row header for the table.\n",
    "The column for `'alice'` contains two sub-columns with values and associated variances (uncertainties).\n",
    "The uncertainties are optional.\n",
    "\n",
    "The datatype (`dtype`) is derived from the provided data, so passing `np.arange(3)` will yield a variable (column) containing 64-bit integers.\n",
    "\n",
    "More details of the dataset are visible in its string representation:"
   ]
  },
  {
   "cell_type": "code",
   "execution_count": 4,
   "metadata": {
    "scrolled": false
   },
   "outputs": [
    {
     "data": {
      "text/html": [
       "<div><!-- Original source from -->\n",
       "<!-- https://github.com/jsignell/xarray/blob/1d960933ab252e0f79f7e050e6c9261d55568057/xarray/static/html/icons-svg-inline.html -->\n",
       "<svg style=\"position: absolute; width: 0; height: 0; overflow: hidden\">\n",
       "<defs>\n",
       "<symbol id=\"icon-database\" viewBox=\"0 0 32 32\">\n",
       "<title>Show/Hide data repr</title>\n",
       "<path d=\"M16 0c-8.837 0-16 2.239-16 5v4c0 2.761 7.163 5 16 5s16-2.239 16-5v-4c0-2.761-7.163-5-16-5z\"></path>\n",
       "<path d=\"M16 17c-8.837 0-16-2.239-16-5v6c0 2.761 7.163 5 16 5s16-2.239 16-5v-6c0 2.761-7.163 5-16 5z\"></path>\n",
       "<path d=\"M16 26c-8.837 0-16-2.239-16-5v6c0 2.761 7.163 5 16 5s16-2.239 16-5v-6c0 2.761-7.163 5-16 5z\"></path>\n",
       "</symbol>\n",
       "<symbol id=\"icon-file-text2\" viewBox=\"0 0 32 32\">\n",
       "<title>Show/Hide attributes</title>\n",
       "<path d=\"M28.681 7.159c-0.694-0.947-1.662-2.053-2.724-3.116s-2.169-2.030-3.116-2.724c-1.612-1.182-2.393-1.319-2.841-1.319h-15.5c-1.378 0-2.5 1.121-2.5 2.5v27c0 1.378 1.122 2.5 2.5 2.5h23c1.378 0 2.5-1.122 2.5-2.5v-19.5c0-0.448-0.137-1.23-1.319-2.841zM24.543 5.457c0.959 0.959 1.712 1.825 2.268 2.543h-4.811v-4.811c0.718 0.556 1.584 1.309 2.543 2.268zM28 29.5c0 0.271-0.229 0.5-0.5 0.5h-23c-0.271 0-0.5-0.229-0.5-0.5v-27c0-0.271 0.229-0.5 0.5-0.5 0 0 15.499-0 15.5 0v7c0 0.552 0.448 1 1 1h7v19.5z\"></path>\n",
       "<path d=\"M23 26h-14c-0.552 0-1-0.448-1-1s0.448-1 1-1h14c0.552 0 1 0.448 1 1s-0.448 1-1 1z\"></path>\n",
       "<path d=\"M23 22h-14c-0.552 0-1-0.448-1-1s0.448-1 1-1h14c0.552 0 1 0.448 1 1s-0.448 1-1 1z\"></path>\n",
       "<path d=\"M23 18h-14c-0.552 0-1-0.448-1-1s0.448-1 1-1h14c0.552 0 1 0.448 1 1s-0.448 1-1 1z\"></path>\n",
       "</symbol>\n",
       "</defs>\n",
       "</svg><style>/* CSS stylesheet for displaying xarray objects in jupyterlab.\n",
       "* Original source from\n",
       "* https://github.com/jsignell/xarray/blob/1d960933ab252e0f79f7e050e6c9261d55568057/xarray/static/css/style.css\n",
       "*/\n",
       "\n",
       ".xr-wrap {\n",
       "  font-size: 14px;\n",
       "  min-width: 300px;\n",
       "  max-width: 800px;\n",
       "}\n",
       "\n",
       "/* The CSS styling for the inline attributes table */\n",
       ".xr-var-attrs .xr-wrap{\n",
       "  padding-left: 3em;\n",
       "}\n",
       "\n",
       ".xr-header {\n",
       "  padding-top: 6px;\n",
       "  padding-bottom: 6px;\n",
       "  margin-bottom: 4px;\n",
       "  border-bottom: solid 1px #ddd;\n",
       "}\n",
       "\n",
       ".xr-header > div,\n",
       ".xr-header > ul {\n",
       "  display: inline;\n",
       "  margin-top: 0;\n",
       "  margin-bottom: 0;\n",
       "}\n",
       "\n",
       ".xr-obj-type,\n",
       ".xr-array-name {\n",
       "  margin-left: 2px;\n",
       "  margin-right: 10px;\n",
       "}\n",
       "\n",
       ".xr-obj-type {\n",
       "  color: #555;\n",
       "}\n",
       "\n",
       ".xr-array-name {\n",
       "  color: #000;\n",
       "}\n",
       "\n",
       ".xr-sections {\n",
       "  padding-left: 0 !important;\n",
       "  display: grid;\n",
       "  grid-template-columns: 150px auto auto auto 1fr 20px 20px;\n",
       "}\n",
       "\n",
       ".xr-section-item {\n",
       "  display: contents;\n",
       "}\n",
       "\n",
       ".xr-section-item input {\n",
       "  display: none;\n",
       "}\n",
       "\n",
       ".xr-section-item input + label {\n",
       "  color: #ccc;\n",
       "}\n",
       "\n",
       ".xr-section-item input:enabled + label {\n",
       "  cursor: pointer;\n",
       "  color: #555;\n",
       "}\n",
       "\n",
       ".xr-section-item input:enabled + label:hover {\n",
       "  color: #000;\n",
       "}\n",
       "\n",
       ".xr-section-summary {\n",
       "  grid-column: 1;\n",
       "  color: #555;\n",
       "  font-weight: 500;\n",
       "}\n",
       "\n",
       ".xr-section-summary > span {\n",
       "  display: inline-block;\n",
       "  padding-left: 0.5em;\n",
       "}\n",
       "\n",
       ".xr-section-summary-in:disabled + label {\n",
       "  color: #555;\n",
       "}\n",
       "\n",
       ".xr-section-summary-in + label:before {\n",
       "  display: inline-block;\n",
       "  content: '►';\n",
       "  font-size: 11px;\n",
       "  width: 15px;\n",
       "  text-align: center;\n",
       "}\n",
       "\n",
       ".xr-section-summary-in:disabled + label:before {\n",
       "  color: #ccc;\n",
       "}\n",
       "\n",
       ".xr-section-summary-in:checked + label:before {\n",
       "  content: '▼';\n",
       "}\n",
       "\n",
       ".xr-section-summary-in:checked + label > span {\n",
       "  display: none;\n",
       "}\n",
       "\n",
       ".xr-section-summary,\n",
       ".xr-section-inline-details {\n",
       "  padding-top: 4px;\n",
       "  padding-bottom: 4px;\n",
       "}\n",
       "\n",
       ".xr-section-inline-details {\n",
       "  grid-column: 2 / 5;\n",
       "}\n",
       "\n",
       ".xr-section-details {\n",
       "  display: none;\n",
       "  grid-column: 1 / -1;\n",
       "  margin-bottom: 5px;\n",
       "}\n",
       "\n",
       ".xr-section-summary-in:checked ~ .xr-section-details {\n",
       "  display: contents;\n",
       "}\n",
       "\n",
       ".xr-array-wrap {\n",
       "  grid-column: 1 / -1;\n",
       "  display: grid;\n",
       "  grid-template-columns: 20px auto;\n",
       "}\n",
       "\n",
       ".xr-array-wrap > label {\n",
       "  grid-column: 1;\n",
       "  vertical-align: top;\n",
       "}\n",
       "\n",
       ".xr-preview {\n",
       "  color: #888;\n",
       "}\n",
       "\n",
       ".xr-array-preview,\n",
       ".xr-array-data {\n",
       "  padding: 0 5px !important;\n",
       "  grid-column: 2;\n",
       "}\n",
       "\n",
       ".xr-array-data,\n",
       ".xr-array-in:checked ~ .xr-array-preview {\n",
       "  display: none;\n",
       "}\n",
       "\n",
       ".xr-array-in:checked ~ .xr-array-data,\n",
       ".xr-array-preview {\n",
       "  display: inline-block;\n",
       "}\n",
       "\n",
       ".xr-dim-list {\n",
       "  display: inline-block !important;\n",
       "  list-style: none;\n",
       "  padding: 0 !important;\n",
       "  margin: 0;\n",
       "}\n",
       "\n",
       ".xr-dim-list li {\n",
       "  display: inline-block;\n",
       "  padding: 0;\n",
       "  margin: 0!important;\n",
       "}\n",
       "\n",
       ".xr-dim-list:before {\n",
       "  content: '(';\n",
       "}\n",
       "\n",
       ".xr-dim-list:after {\n",
       "  content: ')';\n",
       "}\n",
       "\n",
       ".xr-dim-list li:not(:last-child):after {\n",
       "  content: ',';\n",
       "  padding-right: 5px;\n",
       "}\n",
       "\n",
       ".xr-has-index {\n",
       "  font-weight: bold;\n",
       "}\n",
       "\n",
       ".xr-var-list,\n",
       ".xr-var-item {\n",
       "  display: contents;\n",
       "}\n",
       "\n",
       ".xr-var-item > div,\n",
       ".xr-var-item label,\n",
       ".xr-var-item > .xr-var-name span {\n",
       "  background-color: #fcfcfc;\n",
       "  margin-bottom: 0;\n",
       "}\n",
       "\n",
       ".xr-var-item > .xr-var-name:hover span {\n",
       "  padding-right: 5px;\n",
       "}\n",
       "\n",
       ".xr-var-list > li:nth-child(odd) > div,\n",
       ".xr-var-list > li:nth-child(odd) > label,\n",
       ".xr-var-list > li:nth-child(odd) > .xr-var-name span {\n",
       "  background-color: #efefef;\n",
       "}\n",
       "\n",
       ".xr-var-name {\n",
       "  grid-column: 1;\n",
       "}\n",
       "\n",
       ".xr-var-dims {\n",
       "  grid-column: 2;\n",
       "}\n",
       "\n",
       ".xr-var-dtype {\n",
       "  grid-column: 3;\n",
       "  text-align: right;\n",
       "  color: #555;\n",
       "}\n",
       ".xr-var-unit{\n",
       "  grid-column: 4;\n",
       "  text-align: left;\n",
       "  color: #222;\n",
       "}\n",
       ".xr-value-preview {\n",
       "  grid-column: 5;\n",
       "}\n",
       ".xr-var-preview-variances{\n",
       "  text-align:right;\n",
       "}\n",
       "\n",
       ".xr-var-name,\n",
       ".xr-var-dims,\n",
       ".xr-var-dtype,\n",
       ".xr-var-unit,\n",
       ".xr-preview,\n",
       ".xr-attrs dt {\n",
       "  white-space: nowrap;\n",
       "  overflow: hidden;\n",
       "  text-overflow: ellipsis;\n",
       "  padding-right: 10px;\n",
       "}\n",
       "\n",
       ".xr-var-name:hover,\n",
       ".xr-var-dims:hover,\n",
       ".xr-var-dtype:hover,\n",
       ".xr-var-unit:hover,\n",
       ".xr-attrs dt:hover {\n",
       "  overflow: visible;\n",
       "  width: auto;\n",
       "  z-index: 1;\n",
       "}\n",
       "\n",
       ".xr-var-attrs {\n",
       "  display: block;\n",
       "}\n",
       ".xr-var-data {\n",
       "  display: none;\n",
       "}\n",
       ".xr-var-attrs,\n",
       ".xr-var-data {\n",
       "  background-color: #fff !important;\n",
       "  padding-bottom: 5px !important;\n",
       "}\n",
       "\n",
       ".xr-var-attrs-in:checked ~ .xr-var-attrs {\n",
       "  display: none;\n",
       "}\n",
       ".xr-var-data-in:checked ~ .xr-var-data {\n",
       "  display: block;\n",
       "}\n",
       "\n",
       ".xr-var-data > table {\n",
       "  float: right;\n",
       "}\n",
       "\n",
       ".xr-var-name span,\n",
       ".xr-var-data,\n",
       ".xr-attrs {\n",
       "  padding-left: 25px !important;\n",
       "}\n",
       "\n",
       ".xr-attrs,\n",
       ".xr-var-attrs,\n",
       ".xr-var-data {\n",
       "  grid-column: 1 / -1;\n",
       "}\n",
       "\n",
       "dl.xr-attrs {\n",
       "  padding: 0;\n",
       "  margin: 0;\n",
       "  display: grid;\n",
       "  grid-template-columns: 125px auto;\n",
       "}\n",
       "\n",
       ".xr-attrs dt, dd {\n",
       "  padding: 0;\n",
       "  margin: 0;\n",
       "  float: left;\n",
       "  padding-right: 10px;\n",
       "  width: auto;\n",
       "}\n",
       "\n",
       ".xr-attrs dt {\n",
       "  font-weight: normal;\n",
       "  grid-column: 1;\n",
       "}\n",
       "\n",
       ".xr-attrs dt:hover span {\n",
       "  display: inline-block;\n",
       "  background: #fff;\n",
       "  padding-right: 10px;\n",
       "}\n",
       "\n",
       ".xr-attrs dd {\n",
       "  grid-column: 2;\n",
       "  white-space: pre-wrap;\n",
       "  word-break: break-all;\n",
       "}\n",
       "\n",
       ".xr-icon-database,\n",
       ".xr-icon-file-text2 {\n",
       "  display: inline-block;\n",
       "  vertical-align: middle;\n",
       "  width: 1em;\n",
       "  height: 1.5em !important;\n",
       "  stroke-width: 0;\n",
       "  stroke: currentColor;\n",
       "  fill: currentColor;\n",
       "}\n",
       "\n",
       "/*\n",
       "Classes below are added for scipp. Where possible\n",
       "the prefix is changed to \"sc\" to make it easier to distinguish.\n",
       "*/\n",
       "label.xr-hide-icon svg{\n",
       "  opacity: 0;\n",
       "}\n",
       "\n",
       ".sc-section-header{\n",
       "  color:#555;\n",
       "  margin: auto 0;\n",
       "}\n",
       "\n",
       ".sc-section-header-text{\n",
       "  display:inline-block;\n",
       "  vertical-align: middle;\n",
       "  /* matches the margin from  xr-section-item */\n",
       "  margin-bottom: 5px;\n",
       "}\n",
       "\n",
       ".sc-var-name{\n",
       "  grid-column: 1/3;\n",
       "}\n",
       "\n",
       ".sc-var-name span{\n",
       "  padding-left: 25px;\n",
       "  padding-right:10px;\n",
       "}</style><div class='xr-wrap'><div class='xr-header'><div class='xr-obj-type'>scipp.Dataset</div></div><ul class='xr-sections'><li class='xr-section-item'><input id='section-3537a523-ae7b-4a01-b143-2f8584ed4915' class='xr-section-summary-in' type='checkbox' disabled ><label for='section-3537a523-ae7b-4a01-b143-2f8584ed4915' class='xr-section-summary'  title='Expand/collapse section'>Dimensions:</label><div class='xr-section-inline-details'><ul class='xr-dim-list'><li><span class='xr-has-index'>row</span>: 3</li></ul></div><div class='xr-section-details'></div></li><li class='xr-section-item'><input id='section-76a07e1d-962b-4c21-ab3f-090b4b7e855c' class='xr-section-summary-in' type='checkbox'  checked><label for='section-76a07e1d-962b-4c21-ab3f-090b4b7e855c' class='xr-section-summary' >Coordinates: <span>(1)</span></label><div class='xr-section-inline-details'></div><div class='xr-section-details'><ul class='xr-var-list'><li class='xr-var-item'><div class='xr-var-name'><span class='xr-has-index'>row</span></div><div class='xr-var-dims'>(row)</div><div class='xr-var-dtype'>int64</div><div class='xr-var-unit'></div><div class='xr-value-preview xr-preview'><span><div>0, 1, 2</div></span></div><input id='attrs-e978b1fc-6f27-45ed-90f8-5374fcd0e719' class='xr-var-attrs-in' type='checkbox' disabled><label for='attrs-e978b1fc-6f27-45ed-90f8-5374fcd0e719' class='xr-hide-icon' title='Show/Hide attributes'><svg class='icon xr-icon-file-text2'><use xlink:href='#icon-file-text2'></use></svg></label><input id='data-2da4cdbd-895b-4d93-b03d-a2e815eda60a' class='xr-var-data-in' type='checkbox'><label for='data-2da4cdbd-895b-4d93-b03d-a2e815eda60a' title='Show/Hide data repr'><svg class='icon xr-icon-database'><use xlink:href='#icon-database'></use></svg></label><pre class='xr-var-data'>Values:<br>array([0, 1, 2])</pre></span></li></ul></div></li><li class='xr-section-item'><input id='section-ef4d59e9-77b4-4471-b601-115bd2ed5ba7' class='xr-section-summary-in' type='checkbox'  checked><label for='section-ef4d59e9-77b4-4471-b601-115bd2ed5ba7' class='xr-section-summary' >Data: <span>(1)</span></label><div class='xr-section-inline-details'></div><div class='xr-section-details'><ul class='xr-var-list'><li class='xr-var-item'><div class='xr-var-name'><span>alice</span></div><div class='xr-var-dims'>(row)</div><div class='xr-var-dtype'>float64</div><div class='xr-var-unit'>m</div><div class='xr-value-preview xr-preview'><span><div>1.0, 1.1, 1.2</div></span><span><div>σ² = 0.01, 0.01, 0.02</div></span></div><input id='attrs-5e579e3d-5ff7-4534-a045-1195a7ea272e' class='xr-var-attrs-in' type='checkbox' disabled><label for='attrs-5e579e3d-5ff7-4534-a045-1195a7ea272e' class='' title='Show/Hide attributes'><svg class='icon xr-icon-file-text2'><use xlink:href='#icon-file-text2'></use></svg></label><input id='data-aefbdd43-d9ad-4748-93c3-a464d770e08c' class='xr-var-data-in' type='checkbox'><label for='data-aefbdd43-d9ad-4748-93c3-a464d770e08c' title='Show/Hide data repr'><svg class='icon xr-icon-database'><use xlink:href='#icon-database'></use></svg></label><pre class='xr-var-data'>Values:<br>array([1. , 1.1, 1.2])<br><br>Variances:<br>                       <div>array([1. , 1.1, 1.2])</div></pre></li></ul></div></li></ul></div></div>"
      ],
      "text/plain": [
       "<scipp.Dataset>\n",
       "Dimensions: {{row, 3}}\n",
       "Coordinates:\n",
       "    row                       int64      [dimensionless]  (row)  [0, 1, 2]\n",
       "Data:\n",
       "    alice                     float64    [m]              (row)  [1.000000, 1.100000, 1.200000]  [0.010000, 0.010000, 0.020000]\n"
      ]
     },
     "execution_count": 4,
     "metadata": {},
     "output_type": "execute_result"
    }
   ],
   "source": [
    "d"
   ]
  },
  {
   "cell_type": "markdown",
   "metadata": {},
   "source": [
    "A data item (column) in a dataset (table) is identified by its name (`'alice'`).\n",
    "Note how each coordinate and data item is associated with named dimensions, in this case `'row'`, and also a shape:"
   ]
  },
  {
   "cell_type": "code",
   "execution_count": 5,
   "metadata": {},
   "outputs": [
    {
     "name": "stdout",
     "output_type": "stream",
     "text": [
      "[row]\n",
      "[3]\n",
      "[row]\n",
      "[3]\n"
     ]
    }
   ],
   "source": [
    "print(d.coords['row'].dims)\n",
    "print(d.coords['row'].shape)\n",
    "print(d['alice'].dims)\n",
    "print(d['alice'].shape)"
   ]
  },
  {
   "cell_type": "markdown",
   "metadata": {},
   "source": [
    "It is important to understand the difference between items in a dataset, the variable that holds the data of the item, and the actual values.\n",
    "The following illustrates the differences:"
   ]
  },
  {
   "cell_type": "code",
   "execution_count": 6,
   "metadata": {},
   "outputs": [
    {
     "data": {
      "application/vnd.jupyter.widget-view+json": {
       "model_id": "31a31a6c99084083a0909821232d8663",
       "version_major": 2,
       "version_minor": 0
      },
      "text/plain": [
       "VBox(children=(HTML(value=\"<span style='font-weight:bold;font-size:1.5em;'>DataArrayView</span>\"), VBox(childr…"
      ]
     },
     "metadata": {},
     "output_type": "display_data"
    },
    {
     "data": {
      "application/vnd.jupyter.widget-view+json": {
       "model_id": "9692641b42ec43d7bff2196bebbde0ab",
       "version_major": 2,
       "version_minor": 0
      },
      "text/plain": [
       "VBox(children=(HTML(value=\"<span style='font-weight:bold;font-size:1.5em;'>VariableView</span>\"), VBox(childre…"
      ]
     },
     "metadata": {},
     "output_type": "display_data"
    },
    {
     "data": {
      "application/vnd.jupyter.widget-view+json": {
       "model_id": "201cb1bd287c45bfaf026a156b87d277",
       "version_major": 2,
       "version_minor": 0
      },
      "text/plain": [
       "VBox(children=(HTML(value=\"<span style='font-weight:bold;font-size:1.5em;'>numpy.ndarray</span>\"), VBox(childr…"
      ]
     },
     "metadata": {},
     "output_type": "display_data"
    }
   ],
   "source": [
    "sc.table(d['alice']) # includes coordinates\n",
    "sc.table(d['alice'].data) # the variable holding the data, i.e., the dimension labels, units, values, and optional variances\n",
    "sc.table(d['alice'].values) # just the array of values, shorthand for d['alice'].data.values"
   ]
  },
  {
   "cell_type": "markdown",
   "metadata": {},
   "source": [
    "Each variable (column) comes with a physical unit, which we should set up correctly as early as possible:"
   ]
  },
  {
   "cell_type": "code",
   "execution_count": 7,
   "metadata": {},
   "outputs": [
    {
     "name": "stdout",
     "output_type": "stream",
     "text": [
      "dimensionless\n",
      "m\n"
     ]
    }
   ],
   "source": [
    "print(d.coords['row'].unit)\n",
    "print(d['alice'].unit)"
   ]
  },
  {
   "cell_type": "code",
   "execution_count": 8,
   "metadata": {},
   "outputs": [
    {
     "data": {
      "application/vnd.jupyter.widget-view+json": {
       "model_id": "a3789a0a60234922ad558b94f97aa7b9",
       "version_major": 2,
       "version_minor": 0
      },
      "text/plain": [
       "VBox(children=(HTML(value=\"<span style='font-weight:bold;font-size:1.5em;'>Dataset</span>\"), VBox(children=(HT…"
      ]
     },
     "metadata": {},
     "output_type": "display_data"
    }
   ],
   "source": [
    "d.coords['row'].unit = sc.units.s\n",
    "sc.table(d)"
   ]
  },
  {
   "cell_type": "markdown",
   "metadata": {},
   "source": [
    "Units and uncertainties are handled automatically in operations:"
   ]
  },
  {
   "cell_type": "code",
   "execution_count": 9,
   "metadata": {},
   "outputs": [
    {
     "data": {
      "application/vnd.jupyter.widget-view+json": {
       "model_id": "c2e5c89283df420e8675c3a5363e6e47",
       "version_major": 2,
       "version_minor": 0
      },
      "text/plain": [
       "VBox(children=(HTML(value=\"<span style='font-weight:bold;font-size:1.5em;'>Dataset</span>\"), VBox(children=(HT…"
      ]
     },
     "metadata": {},
     "output_type": "display_data"
    }
   ],
   "source": [
    "d *= d\n",
    "sc.table(d)"
   ]
  },
  {
   "cell_type": "markdown",
   "metadata": {},
   "source": [
    "Note how the coordinate is unchanged by this operations.\n",
    "As a rule, operations *compare* coordinates (and fail if there is a mismatch).\n",
    "\n",
    "Operations between columns are supported by indexing into a dataset with a name:"
   ]
  },
  {
   "cell_type": "code",
   "execution_count": 10,
   "metadata": {},
   "outputs": [
    {
     "data": {
      "application/vnd.jupyter.widget-view+json": {
       "model_id": "98c33985138849d9ac370e2bb3390f32",
       "version_major": 2,
       "version_minor": 0
      },
      "text/plain": [
       "VBox(children=(HTML(value=\"<span style='font-weight:bold;font-size:1.5em;'>Dataset</span>\"), VBox(children=(HT…"
      ]
     },
     "metadata": {},
     "output_type": "display_data"
    },
    {
     "data": {
      "text/html": [
       "<div><!-- Original source from -->\n",
       "<!-- https://github.com/jsignell/xarray/blob/1d960933ab252e0f79f7e050e6c9261d55568057/xarray/static/html/icons-svg-inline.html -->\n",
       "<svg style=\"position: absolute; width: 0; height: 0; overflow: hidden\">\n",
       "<defs>\n",
       "<symbol id=\"icon-database\" viewBox=\"0 0 32 32\">\n",
       "<title>Show/Hide data repr</title>\n",
       "<path d=\"M16 0c-8.837 0-16 2.239-16 5v4c0 2.761 7.163 5 16 5s16-2.239 16-5v-4c0-2.761-7.163-5-16-5z\"></path>\n",
       "<path d=\"M16 17c-8.837 0-16-2.239-16-5v6c0 2.761 7.163 5 16 5s16-2.239 16-5v-6c0 2.761-7.163 5-16 5z\"></path>\n",
       "<path d=\"M16 26c-8.837 0-16-2.239-16-5v6c0 2.761 7.163 5 16 5s16-2.239 16-5v-6c0 2.761-7.163 5-16 5z\"></path>\n",
       "</symbol>\n",
       "<symbol id=\"icon-file-text2\" viewBox=\"0 0 32 32\">\n",
       "<title>Show/Hide attributes</title>\n",
       "<path d=\"M28.681 7.159c-0.694-0.947-1.662-2.053-2.724-3.116s-2.169-2.030-3.116-2.724c-1.612-1.182-2.393-1.319-2.841-1.319h-15.5c-1.378 0-2.5 1.121-2.5 2.5v27c0 1.378 1.122 2.5 2.5 2.5h23c1.378 0 2.5-1.122 2.5-2.5v-19.5c0-0.448-0.137-1.23-1.319-2.841zM24.543 5.457c0.959 0.959 1.712 1.825 2.268 2.543h-4.811v-4.811c0.718 0.556 1.584 1.309 2.543 2.268zM28 29.5c0 0.271-0.229 0.5-0.5 0.5h-23c-0.271 0-0.5-0.229-0.5-0.5v-27c0-0.271 0.229-0.5 0.5-0.5 0 0 15.499-0 15.5 0v7c0 0.552 0.448 1 1 1h7v19.5z\"></path>\n",
       "<path d=\"M23 26h-14c-0.552 0-1-0.448-1-1s0.448-1 1-1h14c0.552 0 1 0.448 1 1s-0.448 1-1 1z\"></path>\n",
       "<path d=\"M23 22h-14c-0.552 0-1-0.448-1-1s0.448-1 1-1h14c0.552 0 1 0.448 1 1s-0.448 1-1 1z\"></path>\n",
       "<path d=\"M23 18h-14c-0.552 0-1-0.448-1-1s0.448-1 1-1h14c0.552 0 1 0.448 1 1s-0.448 1-1 1z\"></path>\n",
       "</symbol>\n",
       "</defs>\n",
       "</svg><style>/* CSS stylesheet for displaying xarray objects in jupyterlab.\n",
       "* Original source from\n",
       "* https://github.com/jsignell/xarray/blob/1d960933ab252e0f79f7e050e6c9261d55568057/xarray/static/css/style.css\n",
       "*/\n",
       "\n",
       ".xr-wrap {\n",
       "  font-size: 14px;\n",
       "  min-width: 300px;\n",
       "  max-width: 800px;\n",
       "}\n",
       "\n",
       "/* The CSS styling for the inline attributes table */\n",
       ".xr-var-attrs .xr-wrap{\n",
       "  padding-left: 3em;\n",
       "}\n",
       "\n",
       ".xr-header {\n",
       "  padding-top: 6px;\n",
       "  padding-bottom: 6px;\n",
       "  margin-bottom: 4px;\n",
       "  border-bottom: solid 1px #ddd;\n",
       "}\n",
       "\n",
       ".xr-header > div,\n",
       ".xr-header > ul {\n",
       "  display: inline;\n",
       "  margin-top: 0;\n",
       "  margin-bottom: 0;\n",
       "}\n",
       "\n",
       ".xr-obj-type,\n",
       ".xr-array-name {\n",
       "  margin-left: 2px;\n",
       "  margin-right: 10px;\n",
       "}\n",
       "\n",
       ".xr-obj-type {\n",
       "  color: #555;\n",
       "}\n",
       "\n",
       ".xr-array-name {\n",
       "  color: #000;\n",
       "}\n",
       "\n",
       ".xr-sections {\n",
       "  padding-left: 0 !important;\n",
       "  display: grid;\n",
       "  grid-template-columns: 150px auto auto auto 1fr 20px 20px;\n",
       "}\n",
       "\n",
       ".xr-section-item {\n",
       "  display: contents;\n",
       "}\n",
       "\n",
       ".xr-section-item input {\n",
       "  display: none;\n",
       "}\n",
       "\n",
       ".xr-section-item input + label {\n",
       "  color: #ccc;\n",
       "}\n",
       "\n",
       ".xr-section-item input:enabled + label {\n",
       "  cursor: pointer;\n",
       "  color: #555;\n",
       "}\n",
       "\n",
       ".xr-section-item input:enabled + label:hover {\n",
       "  color: #000;\n",
       "}\n",
       "\n",
       ".xr-section-summary {\n",
       "  grid-column: 1;\n",
       "  color: #555;\n",
       "  font-weight: 500;\n",
       "}\n",
       "\n",
       ".xr-section-summary > span {\n",
       "  display: inline-block;\n",
       "  padding-left: 0.5em;\n",
       "}\n",
       "\n",
       ".xr-section-summary-in:disabled + label {\n",
       "  color: #555;\n",
       "}\n",
       "\n",
       ".xr-section-summary-in + label:before {\n",
       "  display: inline-block;\n",
       "  content: '►';\n",
       "  font-size: 11px;\n",
       "  width: 15px;\n",
       "  text-align: center;\n",
       "}\n",
       "\n",
       ".xr-section-summary-in:disabled + label:before {\n",
       "  color: #ccc;\n",
       "}\n",
       "\n",
       ".xr-section-summary-in:checked + label:before {\n",
       "  content: '▼';\n",
       "}\n",
       "\n",
       ".xr-section-summary-in:checked + label > span {\n",
       "  display: none;\n",
       "}\n",
       "\n",
       ".xr-section-summary,\n",
       ".xr-section-inline-details {\n",
       "  padding-top: 4px;\n",
       "  padding-bottom: 4px;\n",
       "}\n",
       "\n",
       ".xr-section-inline-details {\n",
       "  grid-column: 2 / 5;\n",
       "}\n",
       "\n",
       ".xr-section-details {\n",
       "  display: none;\n",
       "  grid-column: 1 / -1;\n",
       "  margin-bottom: 5px;\n",
       "}\n",
       "\n",
       ".xr-section-summary-in:checked ~ .xr-section-details {\n",
       "  display: contents;\n",
       "}\n",
       "\n",
       ".xr-array-wrap {\n",
       "  grid-column: 1 / -1;\n",
       "  display: grid;\n",
       "  grid-template-columns: 20px auto;\n",
       "}\n",
       "\n",
       ".xr-array-wrap > label {\n",
       "  grid-column: 1;\n",
       "  vertical-align: top;\n",
       "}\n",
       "\n",
       ".xr-preview {\n",
       "  color: #888;\n",
       "}\n",
       "\n",
       ".xr-array-preview,\n",
       ".xr-array-data {\n",
       "  padding: 0 5px !important;\n",
       "  grid-column: 2;\n",
       "}\n",
       "\n",
       ".xr-array-data,\n",
       ".xr-array-in:checked ~ .xr-array-preview {\n",
       "  display: none;\n",
       "}\n",
       "\n",
       ".xr-array-in:checked ~ .xr-array-data,\n",
       ".xr-array-preview {\n",
       "  display: inline-block;\n",
       "}\n",
       "\n",
       ".xr-dim-list {\n",
       "  display: inline-block !important;\n",
       "  list-style: none;\n",
       "  padding: 0 !important;\n",
       "  margin: 0;\n",
       "}\n",
       "\n",
       ".xr-dim-list li {\n",
       "  display: inline-block;\n",
       "  padding: 0;\n",
       "  margin: 0!important;\n",
       "}\n",
       "\n",
       ".xr-dim-list:before {\n",
       "  content: '(';\n",
       "}\n",
       "\n",
       ".xr-dim-list:after {\n",
       "  content: ')';\n",
       "}\n",
       "\n",
       ".xr-dim-list li:not(:last-child):after {\n",
       "  content: ',';\n",
       "  padding-right: 5px;\n",
       "}\n",
       "\n",
       ".xr-has-index {\n",
       "  font-weight: bold;\n",
       "}\n",
       "\n",
       ".xr-var-list,\n",
       ".xr-var-item {\n",
       "  display: contents;\n",
       "}\n",
       "\n",
       ".xr-var-item > div,\n",
       ".xr-var-item label,\n",
       ".xr-var-item > .xr-var-name span {\n",
       "  background-color: #fcfcfc;\n",
       "  margin-bottom: 0;\n",
       "}\n",
       "\n",
       ".xr-var-item > .xr-var-name:hover span {\n",
       "  padding-right: 5px;\n",
       "}\n",
       "\n",
       ".xr-var-list > li:nth-child(odd) > div,\n",
       ".xr-var-list > li:nth-child(odd) > label,\n",
       ".xr-var-list > li:nth-child(odd) > .xr-var-name span {\n",
       "  background-color: #efefef;\n",
       "}\n",
       "\n",
       ".xr-var-name {\n",
       "  grid-column: 1;\n",
       "}\n",
       "\n",
       ".xr-var-dims {\n",
       "  grid-column: 2;\n",
       "}\n",
       "\n",
       ".xr-var-dtype {\n",
       "  grid-column: 3;\n",
       "  text-align: right;\n",
       "  color: #555;\n",
       "}\n",
       ".xr-var-unit{\n",
       "  grid-column: 4;\n",
       "  text-align: left;\n",
       "  color: #222;\n",
       "}\n",
       ".xr-value-preview {\n",
       "  grid-column: 5;\n",
       "}\n",
       ".xr-var-preview-variances{\n",
       "  text-align:right;\n",
       "}\n",
       "\n",
       ".xr-var-name,\n",
       ".xr-var-dims,\n",
       ".xr-var-dtype,\n",
       ".xr-var-unit,\n",
       ".xr-preview,\n",
       ".xr-attrs dt {\n",
       "  white-space: nowrap;\n",
       "  overflow: hidden;\n",
       "  text-overflow: ellipsis;\n",
       "  padding-right: 10px;\n",
       "}\n",
       "\n",
       ".xr-var-name:hover,\n",
       ".xr-var-dims:hover,\n",
       ".xr-var-dtype:hover,\n",
       ".xr-var-unit:hover,\n",
       ".xr-attrs dt:hover {\n",
       "  overflow: visible;\n",
       "  width: auto;\n",
       "  z-index: 1;\n",
       "}\n",
       "\n",
       ".xr-var-attrs {\n",
       "  display: block;\n",
       "}\n",
       ".xr-var-data {\n",
       "  display: none;\n",
       "}\n",
       ".xr-var-attrs,\n",
       ".xr-var-data {\n",
       "  background-color: #fff !important;\n",
       "  padding-bottom: 5px !important;\n",
       "}\n",
       "\n",
       ".xr-var-attrs-in:checked ~ .xr-var-attrs {\n",
       "  display: none;\n",
       "}\n",
       ".xr-var-data-in:checked ~ .xr-var-data {\n",
       "  display: block;\n",
       "}\n",
       "\n",
       ".xr-var-data > table {\n",
       "  float: right;\n",
       "}\n",
       "\n",
       ".xr-var-name span,\n",
       ".xr-var-data,\n",
       ".xr-attrs {\n",
       "  padding-left: 25px !important;\n",
       "}\n",
       "\n",
       ".xr-attrs,\n",
       ".xr-var-attrs,\n",
       ".xr-var-data {\n",
       "  grid-column: 1 / -1;\n",
       "}\n",
       "\n",
       "dl.xr-attrs {\n",
       "  padding: 0;\n",
       "  margin: 0;\n",
       "  display: grid;\n",
       "  grid-template-columns: 125px auto;\n",
       "}\n",
       "\n",
       ".xr-attrs dt, dd {\n",
       "  padding: 0;\n",
       "  margin: 0;\n",
       "  float: left;\n",
       "  padding-right: 10px;\n",
       "  width: auto;\n",
       "}\n",
       "\n",
       ".xr-attrs dt {\n",
       "  font-weight: normal;\n",
       "  grid-column: 1;\n",
       "}\n",
       "\n",
       ".xr-attrs dt:hover span {\n",
       "  display: inline-block;\n",
       "  background: #fff;\n",
       "  padding-right: 10px;\n",
       "}\n",
       "\n",
       ".xr-attrs dd {\n",
       "  grid-column: 2;\n",
       "  white-space: pre-wrap;\n",
       "  word-break: break-all;\n",
       "}\n",
       "\n",
       ".xr-icon-database,\n",
       ".xr-icon-file-text2 {\n",
       "  display: inline-block;\n",
       "  vertical-align: middle;\n",
       "  width: 1em;\n",
       "  height: 1.5em !important;\n",
       "  stroke-width: 0;\n",
       "  stroke: currentColor;\n",
       "  fill: currentColor;\n",
       "}\n",
       "\n",
       "/*\n",
       "Classes below are added for scipp. Where possible\n",
       "the prefix is changed to \"sc\" to make it easier to distinguish.\n",
       "*/\n",
       "label.xr-hide-icon svg{\n",
       "  opacity: 0;\n",
       "}\n",
       "\n",
       ".sc-section-header{\n",
       "  color:#555;\n",
       "  margin: auto 0;\n",
       "}\n",
       "\n",
       ".sc-section-header-text{\n",
       "  display:inline-block;\n",
       "  vertical-align: middle;\n",
       "  /* matches the margin from  xr-section-item */\n",
       "  margin-bottom: 5px;\n",
       "}\n",
       "\n",
       ".sc-var-name{\n",
       "  grid-column: 1/3;\n",
       "}\n",
       "\n",
       ".sc-var-name span{\n",
       "  padding-left: 25px;\n",
       "  padding-right:10px;\n",
       "}</style><div class='xr-wrap'><div class='xr-header'><div class='xr-obj-type'>scipp.Dataset</div></div><ul class='xr-sections'><li class='xr-section-item'><input id='section-f4da74fa-098a-47e9-8ce5-cd139ca84305' class='xr-section-summary-in' type='checkbox' disabled ><label for='section-f4da74fa-098a-47e9-8ce5-cd139ca84305' class='xr-section-summary'  title='Expand/collapse section'>Dimensions:</label><div class='xr-section-inline-details'><ul class='xr-dim-list'><li><span class='xr-has-index'>row</span>: 3</li></ul></div><div class='xr-section-details'></div></li><li class='xr-section-item'><input id='section-e37d42aa-4695-49d4-8562-48076813623c' class='xr-section-summary-in' type='checkbox'  checked><label for='section-e37d42aa-4695-49d4-8562-48076813623c' class='xr-section-summary' >Coordinates: <span>(1)</span></label><div class='xr-section-inline-details'></div><div class='xr-section-details'><ul class='xr-var-list'><li class='xr-var-item'><div class='xr-var-name'><span class='xr-has-index'>row</span></div><div class='xr-var-dims'>(row)</div><div class='xr-var-dtype'>int64</div><div class='xr-var-unit'>s</div><div class='xr-value-preview xr-preview'><span><div>0, 1, 2</div></span></div><input id='attrs-c3fca927-c078-41d3-bde7-fe58e45f53b4' class='xr-var-attrs-in' type='checkbox' disabled><label for='attrs-c3fca927-c078-41d3-bde7-fe58e45f53b4' class='xr-hide-icon' title='Show/Hide attributes'><svg class='icon xr-icon-file-text2'><use xlink:href='#icon-file-text2'></use></svg></label><input id='data-ae4261a3-ad56-48f9-a12c-023fb6e1a157' class='xr-var-data-in' type='checkbox'><label for='data-ae4261a3-ad56-48f9-a12c-023fb6e1a157' title='Show/Hide data repr'><svg class='icon xr-icon-database'><use xlink:href='#icon-database'></use></svg></label><pre class='xr-var-data'>Values:<br>array([0, 1, 2])</pre></span></li></ul></div></li><li class='xr-section-item'><input id='section-dc0f350a-a22a-40a2-be94-82b7760a0e62' class='xr-section-summary-in' type='checkbox'  checked><label for='section-dc0f350a-a22a-40a2-be94-82b7760a0e62' class='xr-section-summary' >Data: <span>(2)</span></label><div class='xr-section-inline-details'></div><div class='xr-section-details'><ul class='xr-var-list'><li class='xr-var-item'><div class='xr-var-name'><span>bob</span></div><div class='xr-var-dims'>(row)</div><div class='xr-var-dtype'>float64</div><div class='xr-var-unit'>m^2</div><div class='xr-value-preview xr-preview'><span><div>1.0, 1.21, 1.44</div></span><span><div>σ² = 0.02, 0.02, 0.06</div></span></div><input id='attrs-0923f9e9-0ddc-4ba1-b8d2-40d11007106c' class='xr-var-attrs-in' type='checkbox' disabled><label for='attrs-0923f9e9-0ddc-4ba1-b8d2-40d11007106c' class='' title='Show/Hide attributes'><svg class='icon xr-icon-file-text2'><use xlink:href='#icon-file-text2'></use></svg></label><input id='data-a0b5478c-4fea-486d-bc04-5181326ca625' class='xr-var-data-in' type='checkbox'><label for='data-a0b5478c-4fea-486d-bc04-5181326ca625' title='Show/Hide data repr'><svg class='icon xr-icon-database'><use xlink:href='#icon-database'></use></svg></label><pre class='xr-var-data'>Values:<br>array([1.  , 1.21, 1.44])<br><br>Variances:<br>                       <div>array([1.  , 1.21, 1.44])</div></pre></li><li class='xr-var-item'><div class='xr-var-name'><span>alice</span></div><div class='xr-var-dims'>(row)</div><div class='xr-var-dtype'>float64</div><div class='xr-var-unit'>m^2</div><div class='xr-value-preview xr-preview'><span><div>1.0, 1.21, 1.44</div></span><span><div>σ² = 0.02, 0.02, 0.06</div></span></div><input id='attrs-b3be229a-3f27-4953-b145-af1073bf05e2' class='xr-var-attrs-in' type='checkbox' disabled><label for='attrs-b3be229a-3f27-4953-b145-af1073bf05e2' class='' title='Show/Hide attributes'><svg class='icon xr-icon-file-text2'><use xlink:href='#icon-file-text2'></use></svg></label><input id='data-bc3669dd-edb4-4a25-85e6-fb805ec0a353' class='xr-var-data-in' type='checkbox'><label for='data-bc3669dd-edb4-4a25-85e6-fb805ec0a353' title='Show/Hide data repr'><svg class='icon xr-icon-database'><use xlink:href='#icon-database'></use></svg></label><pre class='xr-var-data'>Values:<br>array([1.  , 1.21, 1.44])<br><br>Variances:<br>                       <div>array([1.  , 1.21, 1.44])</div></pre></li></ul></div></li></ul></div></div>"
      ],
      "text/plain": [
       "<scipp.Dataset>\n",
       "Dimensions: {{row, 3}}\n",
       "Coordinates:\n",
       "    row                       int64      [s]              (row)  [0, 1, 2]\n",
       "Data:\n",
       "    alice                     float64    [m^2]            (row)  [1.000000, 1.210000, 1.440000]  [0.020000, 0.024200, 0.057600]\n",
       "    bob                       float64    [m^2]            (row)  [1.000000, 1.210000, 1.440000]  [0.020000, 0.024200, 0.057600]\n"
      ]
     },
     "execution_count": 10,
     "metadata": {},
     "output_type": "execute_result"
    }
   ],
   "source": [
    "d['bob'] = d['alice']\n",
    "sc.table(d)\n",
    "d"
   ]
  },
  {
   "cell_type": "markdown",
   "metadata": {},
   "source": [
    "For small datasets, the `show()` function provides a quick graphical preview on the structure of a dataset:"
   ]
  },
  {
   "cell_type": "code",
   "execution_count": 11,
   "metadata": {},
   "outputs": [
    {
     "data": {
      "text/html": [
       "<svg width=40em viewBox=\"0 0 24 9.6\"><g transform=\"translate(0,0)\"></g><g transform=\"translate(4.9,0)\"></g><g transform=\"translate(0,0)\"></g><g transform=\"translate(0,0)\"></g><g transform=\"translate(0,0)\"><g><text x=\"0\" y=\"0.6\"                     style=\"font-size:0.6px\">bob</text><title>dims=[row], shape=[3], unit=m^2, variances=True</title><g><title>variances</title><rect style=\"fill:#ffe680;fill-opacity:1;stroke:#000;stroke-width:0.05\" id=\"rect\" width=\"1\" height=\"1\" x=\"1.1\" y=\"1.3\"/> <path style=\"fill:#ffd633;stroke:#000;stroke-width:0.05;stroke-linejoin:round\" d=\"m 1.1 1.3 l 0.3 -0.3 h 1 l -0.3 0.3 z\" id=\"path1\" /> <path style=\"fill:#cdac29;stroke:#000;stroke-width:0.05;stroke-linejoin:round\" d=\"m 1.1 1.3 m 1 0 l 0.3 -0.3 v 1 l -0.3 0.3 z\" id=\"path2\" /><rect style=\"fill:#ffe680;fill-opacity:1;stroke:#000;stroke-width:0.05\" id=\"rect\" width=\"1\" height=\"1\" x=\"2.1\" y=\"1.3\"/> <path style=\"fill:#ffd633;stroke:#000;stroke-width:0.05;stroke-linejoin:round\" d=\"m 2.1 1.3 l 0.3 -0.3 h 1 l -0.3 0.3 z\" id=\"path1\" /> <path style=\"fill:#cdac29;stroke:#000;stroke-width:0.05;stroke-linejoin:round\" d=\"m 2.1 1.3 m 1 0 l 0.3 -0.3 v 1 l -0.3 0.3 z\" id=\"path2\" /><rect style=\"fill:#ffe680;fill-opacity:1;stroke:#000;stroke-width:0.05\" id=\"rect\" width=\"1\" height=\"1\" x=\"3.1\" y=\"1.3\"/> <path style=\"fill:#ffd633;stroke:#000;stroke-width:0.05;stroke-linejoin:round\" d=\"m 3.1 1.3 l 0.3 -0.3 h 1 l -0.3 0.3 z\" id=\"path1\" /> <path style=\"fill:#cdac29;stroke:#000;stroke-width:0.05;stroke-linejoin:round\" d=\"m 3.1 1.3 m 1 0 l 0.3 -0.3 v 1 l -0.3 0.3 z\" id=\"path2\" /></g><text x=\"2.0\" y=\"3.26\" text-anchor=\"middle\" fill=\"dim-color\"                         style=\"font-size:0.36px\">row</text><g><title>values</title><rect style=\"fill:#ffe680;fill-opacity:1;stroke:#000;stroke-width:0.05\" id=\"rect\" width=\"1\" height=\"1\" x=\"0.5\" y=\"1.9\"/> <path style=\"fill:#ffd633;stroke:#000;stroke-width:0.05;stroke-linejoin:round\" d=\"m 0.5 1.9 l 0.3 -0.3 h 1 l -0.3 0.3 z\" id=\"path1\" /> <path style=\"fill:#cdac29;stroke:#000;stroke-width:0.05;stroke-linejoin:round\" d=\"m 0.5 1.9 m 1 0 l 0.3 -0.3 v 1 l -0.3 0.3 z\" id=\"path2\" /><rect style=\"fill:#ffe680;fill-opacity:1;stroke:#000;stroke-width:0.05\" id=\"rect\" width=\"1\" height=\"1\" x=\"1.5\" y=\"1.9\"/> <path style=\"fill:#ffd633;stroke:#000;stroke-width:0.05;stroke-linejoin:round\" d=\"m 1.5 1.9 l 0.3 -0.3 h 1 l -0.3 0.3 z\" id=\"path1\" /> <path style=\"fill:#cdac29;stroke:#000;stroke-width:0.05;stroke-linejoin:round\" d=\"m 1.5 1.9 m 1 0 l 0.3 -0.3 v 1 l -0.3 0.3 z\" id=\"path2\" /><rect style=\"fill:#ffe680;fill-opacity:1;stroke:#000;stroke-width:0.05\" id=\"rect\" width=\"1\" height=\"1\" x=\"2.5\" y=\"1.9\"/> <path style=\"fill:#ffd633;stroke:#000;stroke-width:0.05;stroke-linejoin:round\" d=\"m 2.5 1.9 l 0.3 -0.3 h 1 l -0.3 0.3 z\" id=\"path1\" /> <path style=\"fill:#cdac29;stroke:#000;stroke-width:0.05;stroke-linejoin:round\" d=\"m 2.5 1.9 m 1 0 l 0.3 -0.3 v 1 l -0.3 0.3 z\" id=\"path2\" /></g><text x=\"2.0\" y=\"3.26\" text-anchor=\"middle\" fill=\"dim-color\"                         style=\"font-size:0.36px\">row</text></g><g><text x=\"0\" y=\"4.0\"                     style=\"font-size:0.6px\">alice</text><title>dims=[row], shape=[3], unit=m^2, variances=True</title><g><title>variances</title><rect style=\"fill:#ffe680;fill-opacity:1;stroke:#000;stroke-width:0.05\" id=\"rect\" width=\"1\" height=\"1\" x=\"1.1\" y=\"4.699999999999999\"/> <path style=\"fill:#ffd633;stroke:#000;stroke-width:0.05;stroke-linejoin:round\" d=\"m 1.1 4.699999999999999 l 0.3 -0.3 h 1 l -0.3 0.3 z\" id=\"path1\" /> <path style=\"fill:#cdac29;stroke:#000;stroke-width:0.05;stroke-linejoin:round\" d=\"m 1.1 4.699999999999999 m 1 0 l 0.3 -0.3 v 1 l -0.3 0.3 z\" id=\"path2\" /><rect style=\"fill:#ffe680;fill-opacity:1;stroke:#000;stroke-width:0.05\" id=\"rect\" width=\"1\" height=\"1\" x=\"2.1\" y=\"4.699999999999999\"/> <path style=\"fill:#ffd633;stroke:#000;stroke-width:0.05;stroke-linejoin:round\" d=\"m 2.1 4.699999999999999 l 0.3 -0.3 h 1 l -0.3 0.3 z\" id=\"path1\" /> <path style=\"fill:#cdac29;stroke:#000;stroke-width:0.05;stroke-linejoin:round\" d=\"m 2.1 4.699999999999999 m 1 0 l 0.3 -0.3 v 1 l -0.3 0.3 z\" id=\"path2\" /><rect style=\"fill:#ffe680;fill-opacity:1;stroke:#000;stroke-width:0.05\" id=\"rect\" width=\"1\" height=\"1\" x=\"3.1\" y=\"4.699999999999999\"/> <path style=\"fill:#ffd633;stroke:#000;stroke-width:0.05;stroke-linejoin:round\" d=\"m 3.1 4.699999999999999 l 0.3 -0.3 h 1 l -0.3 0.3 z\" id=\"path1\" /> <path style=\"fill:#cdac29;stroke:#000;stroke-width:0.05;stroke-linejoin:round\" d=\"m 3.1 4.699999999999999 m 1 0 l 0.3 -0.3 v 1 l -0.3 0.3 z\" id=\"path2\" /></g><text x=\"2.0\" y=\"6.66\" text-anchor=\"middle\" fill=\"dim-color\"                         style=\"font-size:0.36px\">row</text><g><title>values</title><rect style=\"fill:#ffe680;fill-opacity:1;stroke:#000;stroke-width:0.05\" id=\"rect\" width=\"1\" height=\"1\" x=\"0.5\" y=\"5.3\"/> <path style=\"fill:#ffd633;stroke:#000;stroke-width:0.05;stroke-linejoin:round\" d=\"m 0.5 5.3 l 0.3 -0.3 h 1 l -0.3 0.3 z\" id=\"path1\" /> <path style=\"fill:#cdac29;stroke:#000;stroke-width:0.05;stroke-linejoin:round\" d=\"m 0.5 5.3 m 1 0 l 0.3 -0.3 v 1 l -0.3 0.3 z\" id=\"path2\" /><rect style=\"fill:#ffe680;fill-opacity:1;stroke:#000;stroke-width:0.05\" id=\"rect\" width=\"1\" height=\"1\" x=\"1.5\" y=\"5.3\"/> <path style=\"fill:#ffd633;stroke:#000;stroke-width:0.05;stroke-linejoin:round\" d=\"m 1.5 5.3 l 0.3 -0.3 h 1 l -0.3 0.3 z\" id=\"path1\" /> <path style=\"fill:#cdac29;stroke:#000;stroke-width:0.05;stroke-linejoin:round\" d=\"m 1.5 5.3 m 1 0 l 0.3 -0.3 v 1 l -0.3 0.3 z\" id=\"path2\" /><rect style=\"fill:#ffe680;fill-opacity:1;stroke:#000;stroke-width:0.05\" id=\"rect\" width=\"1\" height=\"1\" x=\"2.5\" y=\"5.3\"/> <path style=\"fill:#ffd633;stroke:#000;stroke-width:0.05;stroke-linejoin:round\" d=\"m 2.5 5.3 l 0.3 -0.3 h 1 l -0.3 0.3 z\" id=\"path1\" /> <path style=\"fill:#cdac29;stroke:#000;stroke-width:0.05;stroke-linejoin:round\" d=\"m 2.5 5.3 m 1 0 l 0.3 -0.3 v 1 l -0.3 0.3 z\" id=\"path2\" /></g><text x=\"2.0\" y=\"6.66\" text-anchor=\"middle\" fill=\"dim-color\"                         style=\"font-size:0.36px\">row</text></g><g><text x=\"0\" y=\"7.3999999999999995\"                     style=\"font-size:0.6px\">row</text><title>dims=[row], shape=[3], unit=s, variances=False</title><g><title>values</title><rect style=\"fill:#dde9af;fill-opacity:1;stroke:#000;stroke-width:0.05\" id=\"rect\" width=\"1\" height=\"1\" x=\"0.5\" y=\"8.1\"/> <path style=\"fill:#cee969;stroke:#000;stroke-width:0.05;stroke-linejoin:round\" d=\"m 0.5 8.1 l 0.3 -0.3 h 1 l -0.3 0.3 z\" id=\"path1\" /> <path style=\"fill:#a2b752;stroke:#000;stroke-width:0.05;stroke-linejoin:round\" d=\"m 0.5 8.1 m 1 0 l 0.3 -0.3 v 1 l -0.3 0.3 z\" id=\"path2\" /><rect style=\"fill:#dde9af;fill-opacity:1;stroke:#000;stroke-width:0.05\" id=\"rect\" width=\"1\" height=\"1\" x=\"1.5\" y=\"8.1\"/> <path style=\"fill:#cee969;stroke:#000;stroke-width:0.05;stroke-linejoin:round\" d=\"m 1.5 8.1 l 0.3 -0.3 h 1 l -0.3 0.3 z\" id=\"path1\" /> <path style=\"fill:#a2b752;stroke:#000;stroke-width:0.05;stroke-linejoin:round\" d=\"m 1.5 8.1 m 1 0 l 0.3 -0.3 v 1 l -0.3 0.3 z\" id=\"path2\" /><rect style=\"fill:#dde9af;fill-opacity:1;stroke:#000;stroke-width:0.05\" id=\"rect\" width=\"1\" height=\"1\" x=\"2.5\" y=\"8.1\"/> <path style=\"fill:#cee969;stroke:#000;stroke-width:0.05;stroke-linejoin:round\" d=\"m 2.5 8.1 l 0.3 -0.3 h 1 l -0.3 0.3 z\" id=\"path1\" /> <path style=\"fill:#a2b752;stroke:#000;stroke-width:0.05;stroke-linejoin:round\" d=\"m 2.5 8.1 m 1 0 l 0.3 -0.3 v 1 l -0.3 0.3 z\" id=\"path2\" /></g><text x=\"2.0\" y=\"9.459999999999999\" text-anchor=\"middle\" fill=\"dim-color\"                         style=\"font-size:0.36px\">row</text></g></g></svg>"
      ],
      "text/plain": [
       "<IPython.core.display.HTML object>"
      ]
     },
     "metadata": {},
     "output_type": "display_data"
    }
   ],
   "source": [
    "sc.show(d)"
   ]
  },
  {
   "cell_type": "code",
   "execution_count": 12,
   "metadata": {},
   "outputs": [
    {
     "data": {
      "application/vnd.jupyter.widget-view+json": {
       "model_id": "ab84c999faa9461da89687d32614d487",
       "version_major": 2,
       "version_minor": 0
      },
      "text/plain": [
       "VBox(children=(HTML(value=\"<span style='font-weight:bold;font-size:1.5em;'>Dataset</span>\"), VBox(children=(HT…"
      ]
     },
     "metadata": {},
     "output_type": "display_data"
    }
   ],
   "source": [
    "d['bob'] += d['alice']\n",
    "sc.table(d)"
   ]
  },
  {
   "cell_type": "markdown",
   "metadata": {},
   "source": [
    "The contents of a dataset can also be displayed on a graph using the `plot` function:"
   ]
  },
  {
   "cell_type": "code",
   "execution_count": 13,
   "metadata": {},
   "outputs": [
    {
     "data": {
      "application/javascript": [
       "/* Put everything inside the global mpl namespace */\n",
       "window.mpl = {};\n",
       "\n",
       "\n",
       "mpl.get_websocket_type = function() {\n",
       "    if (typeof(WebSocket) !== 'undefined') {\n",
       "        return WebSocket;\n",
       "    } else if (typeof(MozWebSocket) !== 'undefined') {\n",
       "        return MozWebSocket;\n",
       "    } else {\n",
       "        alert('Your browser does not have WebSocket support. ' +\n",
       "              'Please try Chrome, Safari or Firefox ≥ 6. ' +\n",
       "              'Firefox 4 and 5 are also supported but you ' +\n",
       "              'have to enable WebSockets in about:config.');\n",
       "    };\n",
       "}\n",
       "\n",
       "mpl.figure = function(figure_id, websocket, ondownload, parent_element) {\n",
       "    this.id = figure_id;\n",
       "\n",
       "    this.ws = websocket;\n",
       "\n",
       "    this.supports_binary = (this.ws.binaryType != undefined);\n",
       "\n",
       "    if (!this.supports_binary) {\n",
       "        var warnings = document.getElementById(\"mpl-warnings\");\n",
       "        if (warnings) {\n",
       "            warnings.style.display = 'block';\n",
       "            warnings.textContent = (\n",
       "                \"This browser does not support binary websocket messages. \" +\n",
       "                    \"Performance may be slow.\");\n",
       "        }\n",
       "    }\n",
       "\n",
       "    this.imageObj = new Image();\n",
       "\n",
       "    this.context = undefined;\n",
       "    this.message = undefined;\n",
       "    this.canvas = undefined;\n",
       "    this.rubberband_canvas = undefined;\n",
       "    this.rubberband_context = undefined;\n",
       "    this.format_dropdown = undefined;\n",
       "\n",
       "    this.image_mode = 'full';\n",
       "\n",
       "    this.root = $('<div/>');\n",
       "    this._root_extra_style(this.root)\n",
       "    this.root.attr('style', 'display: inline-block');\n",
       "\n",
       "    $(parent_element).append(this.root);\n",
       "\n",
       "    this._init_header(this);\n",
       "    this._init_canvas(this);\n",
       "    this._init_toolbar(this);\n",
       "\n",
       "    var fig = this;\n",
       "\n",
       "    this.waiting = false;\n",
       "\n",
       "    this.ws.onopen =  function () {\n",
       "            fig.send_message(\"supports_binary\", {value: fig.supports_binary});\n",
       "            fig.send_message(\"send_image_mode\", {});\n",
       "            if (mpl.ratio != 1) {\n",
       "                fig.send_message(\"set_dpi_ratio\", {'dpi_ratio': mpl.ratio});\n",
       "            }\n",
       "            fig.send_message(\"refresh\", {});\n",
       "        }\n",
       "\n",
       "    this.imageObj.onload = function() {\n",
       "            if (fig.image_mode == 'full') {\n",
       "                // Full images could contain transparency (where diff images\n",
       "                // almost always do), so we need to clear the canvas so that\n",
       "                // there is no ghosting.\n",
       "                fig.context.clearRect(0, 0, fig.canvas.width, fig.canvas.height);\n",
       "            }\n",
       "            fig.context.drawImage(fig.imageObj, 0, 0);\n",
       "        };\n",
       "\n",
       "    this.imageObj.onunload = function() {\n",
       "        fig.ws.close();\n",
       "    }\n",
       "\n",
       "    this.ws.onmessage = this._make_on_message_function(this);\n",
       "\n",
       "    this.ondownload = ondownload;\n",
       "}\n",
       "\n",
       "mpl.figure.prototype._init_header = function() {\n",
       "    var titlebar = $(\n",
       "        '<div class=\"ui-dialog-titlebar ui-widget-header ui-corner-all ' +\n",
       "        'ui-helper-clearfix\"/>');\n",
       "    var titletext = $(\n",
       "        '<div class=\"ui-dialog-title\" style=\"width: 100%; ' +\n",
       "        'text-align: center; padding: 3px;\"/>');\n",
       "    titlebar.append(titletext)\n",
       "    this.root.append(titlebar);\n",
       "    this.header = titletext[0];\n",
       "}\n",
       "\n",
       "\n",
       "\n",
       "mpl.figure.prototype._canvas_extra_style = function(canvas_div) {\n",
       "\n",
       "}\n",
       "\n",
       "\n",
       "mpl.figure.prototype._root_extra_style = function(canvas_div) {\n",
       "\n",
       "}\n",
       "\n",
       "mpl.figure.prototype._init_canvas = function() {\n",
       "    var fig = this;\n",
       "\n",
       "    var canvas_div = $('<div/>');\n",
       "\n",
       "    canvas_div.attr('style', 'position: relative; clear: both; outline: 0');\n",
       "\n",
       "    function canvas_keyboard_event(event) {\n",
       "        return fig.key_event(event, event['data']);\n",
       "    }\n",
       "\n",
       "    canvas_div.keydown('key_press', canvas_keyboard_event);\n",
       "    canvas_div.keyup('key_release', canvas_keyboard_event);\n",
       "    this.canvas_div = canvas_div\n",
       "    this._canvas_extra_style(canvas_div)\n",
       "    this.root.append(canvas_div);\n",
       "\n",
       "    var canvas = $('<canvas/>');\n",
       "    canvas.addClass('mpl-canvas');\n",
       "    canvas.attr('style', \"left: 0; top: 0; z-index: 0; outline: 0\")\n",
       "\n",
       "    this.canvas = canvas[0];\n",
       "    this.context = canvas[0].getContext(\"2d\");\n",
       "\n",
       "    var backingStore = this.context.backingStorePixelRatio ||\n",
       "\tthis.context.webkitBackingStorePixelRatio ||\n",
       "\tthis.context.mozBackingStorePixelRatio ||\n",
       "\tthis.context.msBackingStorePixelRatio ||\n",
       "\tthis.context.oBackingStorePixelRatio ||\n",
       "\tthis.context.backingStorePixelRatio || 1;\n",
       "\n",
       "    mpl.ratio = (window.devicePixelRatio || 1) / backingStore;\n",
       "\n",
       "    var rubberband = $('<canvas/>');\n",
       "    rubberband.attr('style', \"position: absolute; left: 0; top: 0; z-index: 1;\")\n",
       "\n",
       "    var pass_mouse_events = true;\n",
       "\n",
       "    canvas_div.resizable({\n",
       "        start: function(event, ui) {\n",
       "            pass_mouse_events = false;\n",
       "        },\n",
       "        resize: function(event, ui) {\n",
       "            fig.request_resize(ui.size.width, ui.size.height);\n",
       "        },\n",
       "        stop: function(event, ui) {\n",
       "            pass_mouse_events = true;\n",
       "            fig.request_resize(ui.size.width, ui.size.height);\n",
       "        },\n",
       "    });\n",
       "\n",
       "    function mouse_event_fn(event) {\n",
       "        if (pass_mouse_events)\n",
       "            return fig.mouse_event(event, event['data']);\n",
       "    }\n",
       "\n",
       "    rubberband.mousedown('button_press', mouse_event_fn);\n",
       "    rubberband.mouseup('button_release', mouse_event_fn);\n",
       "    // Throttle sequential mouse events to 1 every 20ms.\n",
       "    rubberband.mousemove('motion_notify', mouse_event_fn);\n",
       "\n",
       "    rubberband.mouseenter('figure_enter', mouse_event_fn);\n",
       "    rubberband.mouseleave('figure_leave', mouse_event_fn);\n",
       "\n",
       "    canvas_div.on(\"wheel\", function (event) {\n",
       "        event = event.originalEvent;\n",
       "        event['data'] = 'scroll'\n",
       "        if (event.deltaY < 0) {\n",
       "            event.step = 1;\n",
       "        } else {\n",
       "            event.step = -1;\n",
       "        }\n",
       "        mouse_event_fn(event);\n",
       "    });\n",
       "\n",
       "    canvas_div.append(canvas);\n",
       "    canvas_div.append(rubberband);\n",
       "\n",
       "    this.rubberband = rubberband;\n",
       "    this.rubberband_canvas = rubberband[0];\n",
       "    this.rubberband_context = rubberband[0].getContext(\"2d\");\n",
       "    this.rubberband_context.strokeStyle = \"#000000\";\n",
       "\n",
       "    this._resize_canvas = function(width, height) {\n",
       "        // Keep the size of the canvas, canvas container, and rubber band\n",
       "        // canvas in synch.\n",
       "        canvas_div.css('width', width)\n",
       "        canvas_div.css('height', height)\n",
       "\n",
       "        canvas.attr('width', width * mpl.ratio);\n",
       "        canvas.attr('height', height * mpl.ratio);\n",
       "        canvas.attr('style', 'width: ' + width + 'px; height: ' + height + 'px;');\n",
       "\n",
       "        rubberband.attr('width', width);\n",
       "        rubberband.attr('height', height);\n",
       "    }\n",
       "\n",
       "    // Set the figure to an initial 600x600px, this will subsequently be updated\n",
       "    // upon first draw.\n",
       "    this._resize_canvas(600, 600);\n",
       "\n",
       "    // Disable right mouse context menu.\n",
       "    $(this.rubberband_canvas).bind(\"contextmenu\",function(e){\n",
       "        return false;\n",
       "    });\n",
       "\n",
       "    function set_focus () {\n",
       "        canvas.focus();\n",
       "        canvas_div.focus();\n",
       "    }\n",
       "\n",
       "    window.setTimeout(set_focus, 100);\n",
       "}\n",
       "\n",
       "mpl.figure.prototype._init_toolbar = function() {\n",
       "    var fig = this;\n",
       "\n",
       "    var nav_element = $('<div/>');\n",
       "    nav_element.attr('style', 'width: 100%');\n",
       "    this.root.append(nav_element);\n",
       "\n",
       "    // Define a callback function for later on.\n",
       "    function toolbar_event(event) {\n",
       "        return fig.toolbar_button_onclick(event['data']);\n",
       "    }\n",
       "    function toolbar_mouse_event(event) {\n",
       "        return fig.toolbar_button_onmouseover(event['data']);\n",
       "    }\n",
       "\n",
       "    for(var toolbar_ind in mpl.toolbar_items) {\n",
       "        var name = mpl.toolbar_items[toolbar_ind][0];\n",
       "        var tooltip = mpl.toolbar_items[toolbar_ind][1];\n",
       "        var image = mpl.toolbar_items[toolbar_ind][2];\n",
       "        var method_name = mpl.toolbar_items[toolbar_ind][3];\n",
       "\n",
       "        if (!name) {\n",
       "            // put a spacer in here.\n",
       "            continue;\n",
       "        }\n",
       "        var button = $('<button/>');\n",
       "        button.addClass('ui-button ui-widget ui-state-default ui-corner-all ' +\n",
       "                        'ui-button-icon-only');\n",
       "        button.attr('role', 'button');\n",
       "        button.attr('aria-disabled', 'false');\n",
       "        button.click(method_name, toolbar_event);\n",
       "        button.mouseover(tooltip, toolbar_mouse_event);\n",
       "\n",
       "        var icon_img = $('<span/>');\n",
       "        icon_img.addClass('ui-button-icon-primary ui-icon');\n",
       "        icon_img.addClass(image);\n",
       "        icon_img.addClass('ui-corner-all');\n",
       "\n",
       "        var tooltip_span = $('<span/>');\n",
       "        tooltip_span.addClass('ui-button-text');\n",
       "        tooltip_span.html(tooltip);\n",
       "\n",
       "        button.append(icon_img);\n",
       "        button.append(tooltip_span);\n",
       "\n",
       "        nav_element.append(button);\n",
       "    }\n",
       "\n",
       "    var fmt_picker_span = $('<span/>');\n",
       "\n",
       "    var fmt_picker = $('<select/>');\n",
       "    fmt_picker.addClass('mpl-toolbar-option ui-widget ui-widget-content');\n",
       "    fmt_picker_span.append(fmt_picker);\n",
       "    nav_element.append(fmt_picker_span);\n",
       "    this.format_dropdown = fmt_picker[0];\n",
       "\n",
       "    for (var ind in mpl.extensions) {\n",
       "        var fmt = mpl.extensions[ind];\n",
       "        var option = $(\n",
       "            '<option/>', {selected: fmt === mpl.default_extension}).html(fmt);\n",
       "        fmt_picker.append(option);\n",
       "    }\n",
       "\n",
       "    // Add hover states to the ui-buttons\n",
       "    $( \".ui-button\" ).hover(\n",
       "        function() { $(this).addClass(\"ui-state-hover\");},\n",
       "        function() { $(this).removeClass(\"ui-state-hover\");}\n",
       "    );\n",
       "\n",
       "    var status_bar = $('<span class=\"mpl-message\"/>');\n",
       "    nav_element.append(status_bar);\n",
       "    this.message = status_bar[0];\n",
       "}\n",
       "\n",
       "mpl.figure.prototype.request_resize = function(x_pixels, y_pixels) {\n",
       "    // Request matplotlib to resize the figure. Matplotlib will then trigger a resize in the client,\n",
       "    // which will in turn request a refresh of the image.\n",
       "    this.send_message('resize', {'width': x_pixels, 'height': y_pixels});\n",
       "}\n",
       "\n",
       "mpl.figure.prototype.send_message = function(type, properties) {\n",
       "    properties['type'] = type;\n",
       "    properties['figure_id'] = this.id;\n",
       "    this.ws.send(JSON.stringify(properties));\n",
       "}\n",
       "\n",
       "mpl.figure.prototype.send_draw_message = function() {\n",
       "    if (!this.waiting) {\n",
       "        this.waiting = true;\n",
       "        this.ws.send(JSON.stringify({type: \"draw\", figure_id: this.id}));\n",
       "    }\n",
       "}\n",
       "\n",
       "\n",
       "mpl.figure.prototype.handle_save = function(fig, msg) {\n",
       "    var format_dropdown = fig.format_dropdown;\n",
       "    var format = format_dropdown.options[format_dropdown.selectedIndex].value;\n",
       "    fig.ondownload(fig, format);\n",
       "}\n",
       "\n",
       "\n",
       "mpl.figure.prototype.handle_resize = function(fig, msg) {\n",
       "    var size = msg['size'];\n",
       "    if (size[0] != fig.canvas.width || size[1] != fig.canvas.height) {\n",
       "        fig._resize_canvas(size[0], size[1]);\n",
       "        fig.send_message(\"refresh\", {});\n",
       "    };\n",
       "}\n",
       "\n",
       "mpl.figure.prototype.handle_rubberband = function(fig, msg) {\n",
       "    var x0 = msg['x0'] / mpl.ratio;\n",
       "    var y0 = (fig.canvas.height - msg['y0']) / mpl.ratio;\n",
       "    var x1 = msg['x1'] / mpl.ratio;\n",
       "    var y1 = (fig.canvas.height - msg['y1']) / mpl.ratio;\n",
       "    x0 = Math.floor(x0) + 0.5;\n",
       "    y0 = Math.floor(y0) + 0.5;\n",
       "    x1 = Math.floor(x1) + 0.5;\n",
       "    y1 = Math.floor(y1) + 0.5;\n",
       "    var min_x = Math.min(x0, x1);\n",
       "    var min_y = Math.min(y0, y1);\n",
       "    var width = Math.abs(x1 - x0);\n",
       "    var height = Math.abs(y1 - y0);\n",
       "\n",
       "    fig.rubberband_context.clearRect(\n",
       "        0, 0, fig.canvas.width / mpl.ratio, fig.canvas.height / mpl.ratio);\n",
       "\n",
       "    fig.rubberband_context.strokeRect(min_x, min_y, width, height);\n",
       "}\n",
       "\n",
       "mpl.figure.prototype.handle_figure_label = function(fig, msg) {\n",
       "    // Updates the figure title.\n",
       "    fig.header.textContent = msg['label'];\n",
       "}\n",
       "\n",
       "mpl.figure.prototype.handle_cursor = function(fig, msg) {\n",
       "    var cursor = msg['cursor'];\n",
       "    switch(cursor)\n",
       "    {\n",
       "    case 0:\n",
       "        cursor = 'pointer';\n",
       "        break;\n",
       "    case 1:\n",
       "        cursor = 'default';\n",
       "        break;\n",
       "    case 2:\n",
       "        cursor = 'crosshair';\n",
       "        break;\n",
       "    case 3:\n",
       "        cursor = 'move';\n",
       "        break;\n",
       "    }\n",
       "    fig.rubberband_canvas.style.cursor = cursor;\n",
       "}\n",
       "\n",
       "mpl.figure.prototype.handle_message = function(fig, msg) {\n",
       "    fig.message.textContent = msg['message'];\n",
       "}\n",
       "\n",
       "mpl.figure.prototype.handle_draw = function(fig, msg) {\n",
       "    // Request the server to send over a new figure.\n",
       "    fig.send_draw_message();\n",
       "}\n",
       "\n",
       "mpl.figure.prototype.handle_image_mode = function(fig, msg) {\n",
       "    fig.image_mode = msg['mode'];\n",
       "}\n",
       "\n",
       "mpl.figure.prototype.updated_canvas_event = function() {\n",
       "    // Called whenever the canvas gets updated.\n",
       "    this.send_message(\"ack\", {});\n",
       "}\n",
       "\n",
       "// A function to construct a web socket function for onmessage handling.\n",
       "// Called in the figure constructor.\n",
       "mpl.figure.prototype._make_on_message_function = function(fig) {\n",
       "    return function socket_on_message(evt) {\n",
       "        if (evt.data instanceof Blob) {\n",
       "            /* FIXME: We get \"Resource interpreted as Image but\n",
       "             * transferred with MIME type text/plain:\" errors on\n",
       "             * Chrome.  But how to set the MIME type?  It doesn't seem\n",
       "             * to be part of the websocket stream */\n",
       "            evt.data.type = \"image/png\";\n",
       "\n",
       "            /* Free the memory for the previous frames */\n",
       "            if (fig.imageObj.src) {\n",
       "                (window.URL || window.webkitURL).revokeObjectURL(\n",
       "                    fig.imageObj.src);\n",
       "            }\n",
       "\n",
       "            fig.imageObj.src = (window.URL || window.webkitURL).createObjectURL(\n",
       "                evt.data);\n",
       "            fig.updated_canvas_event();\n",
       "            fig.waiting = false;\n",
       "            return;\n",
       "        }\n",
       "        else if (typeof evt.data === 'string' && evt.data.slice(0, 21) == \"data:image/png;base64\") {\n",
       "            fig.imageObj.src = evt.data;\n",
       "            fig.updated_canvas_event();\n",
       "            fig.waiting = false;\n",
       "            return;\n",
       "        }\n",
       "\n",
       "        var msg = JSON.parse(evt.data);\n",
       "        var msg_type = msg['type'];\n",
       "\n",
       "        // Call the  \"handle_{type}\" callback, which takes\n",
       "        // the figure and JSON message as its only arguments.\n",
       "        try {\n",
       "            var callback = fig[\"handle_\" + msg_type];\n",
       "        } catch (e) {\n",
       "            console.log(\"No handler for the '\" + msg_type + \"' message type: \", msg);\n",
       "            return;\n",
       "        }\n",
       "\n",
       "        if (callback) {\n",
       "            try {\n",
       "                // console.log(\"Handling '\" + msg_type + \"' message: \", msg);\n",
       "                callback(fig, msg);\n",
       "            } catch (e) {\n",
       "                console.log(\"Exception inside the 'handler_\" + msg_type + \"' callback:\", e, e.stack, msg);\n",
       "            }\n",
       "        }\n",
       "    };\n",
       "}\n",
       "\n",
       "// from http://stackoverflow.com/questions/1114465/getting-mouse-location-in-canvas\n",
       "mpl.findpos = function(e) {\n",
       "    //this section is from http://www.quirksmode.org/js/events_properties.html\n",
       "    var targ;\n",
       "    if (!e)\n",
       "        e = window.event;\n",
       "    if (e.target)\n",
       "        targ = e.target;\n",
       "    else if (e.srcElement)\n",
       "        targ = e.srcElement;\n",
       "    if (targ.nodeType == 3) // defeat Safari bug\n",
       "        targ = targ.parentNode;\n",
       "\n",
       "    // jQuery normalizes the pageX and pageY\n",
       "    // pageX,Y are the mouse positions relative to the document\n",
       "    // offset() returns the position of the element relative to the document\n",
       "    var x = e.pageX - $(targ).offset().left;\n",
       "    var y = e.pageY - $(targ).offset().top;\n",
       "\n",
       "    return {\"x\": x, \"y\": y};\n",
       "};\n",
       "\n",
       "/*\n",
       " * return a copy of an object with only non-object keys\n",
       " * we need this to avoid circular references\n",
       " * http://stackoverflow.com/a/24161582/3208463\n",
       " */\n",
       "function simpleKeys (original) {\n",
       "  return Object.keys(original).reduce(function (obj, key) {\n",
       "    if (typeof original[key] !== 'object')\n",
       "        obj[key] = original[key]\n",
       "    return obj;\n",
       "  }, {});\n",
       "}\n",
       "\n",
       "mpl.figure.prototype.mouse_event = function(event, name) {\n",
       "    var canvas_pos = mpl.findpos(event)\n",
       "\n",
       "    if (name === 'button_press')\n",
       "    {\n",
       "        this.canvas.focus();\n",
       "        this.canvas_div.focus();\n",
       "    }\n",
       "\n",
       "    var x = canvas_pos.x * mpl.ratio;\n",
       "    var y = canvas_pos.y * mpl.ratio;\n",
       "\n",
       "    this.send_message(name, {x: x, y: y, button: event.button,\n",
       "                             step: event.step,\n",
       "                             guiEvent: simpleKeys(event)});\n",
       "\n",
       "    /* This prevents the web browser from automatically changing to\n",
       "     * the text insertion cursor when the button is pressed.  We want\n",
       "     * to control all of the cursor setting manually through the\n",
       "     * 'cursor' event from matplotlib */\n",
       "    event.preventDefault();\n",
       "    return false;\n",
       "}\n",
       "\n",
       "mpl.figure.prototype._key_event_extra = function(event, name) {\n",
       "    // Handle any extra behaviour associated with a key event\n",
       "}\n",
       "\n",
       "mpl.figure.prototype.key_event = function(event, name) {\n",
       "\n",
       "    // Prevent repeat events\n",
       "    if (name == 'key_press')\n",
       "    {\n",
       "        if (event.which === this._key)\n",
       "            return;\n",
       "        else\n",
       "            this._key = event.which;\n",
       "    }\n",
       "    if (name == 'key_release')\n",
       "        this._key = null;\n",
       "\n",
       "    var value = '';\n",
       "    if (event.ctrlKey && event.which != 17)\n",
       "        value += \"ctrl+\";\n",
       "    if (event.altKey && event.which != 18)\n",
       "        value += \"alt+\";\n",
       "    if (event.shiftKey && event.which != 16)\n",
       "        value += \"shift+\";\n",
       "\n",
       "    value += 'k';\n",
       "    value += event.which.toString();\n",
       "\n",
       "    this._key_event_extra(event, name);\n",
       "\n",
       "    this.send_message(name, {key: value,\n",
       "                             guiEvent: simpleKeys(event)});\n",
       "    return false;\n",
       "}\n",
       "\n",
       "mpl.figure.prototype.toolbar_button_onclick = function(name) {\n",
       "    if (name == 'download') {\n",
       "        this.handle_save(this, null);\n",
       "    } else {\n",
       "        this.send_message(\"toolbar_button\", {name: name});\n",
       "    }\n",
       "};\n",
       "\n",
       "mpl.figure.prototype.toolbar_button_onmouseover = function(tooltip) {\n",
       "    this.message.textContent = tooltip;\n",
       "};\n",
       "mpl.toolbar_items = [[\"Home\", \"Reset original view\", \"fa fa-home icon-home\", \"home\"], [\"Back\", \"Back to previous view\", \"fa fa-arrow-left icon-arrow-left\", \"back\"], [\"Forward\", \"Forward to next view\", \"fa fa-arrow-right icon-arrow-right\", \"forward\"], [\"\", \"\", \"\", \"\"], [\"Pan\", \"Pan axes with left mouse, zoom with right\", \"fa fa-arrows icon-move\", \"pan\"], [\"Zoom\", \"Zoom to rectangle\", \"fa fa-square-o icon-check-empty\", \"zoom\"], [\"\", \"\", \"\", \"\"], [\"Download\", \"Download plot\", \"fa fa-floppy-o icon-save\", \"download\"]];\n",
       "\n",
       "mpl.extensions = [\"eps\", \"pdf\", \"png\", \"ps\", \"raw\", \"svg\"];\n",
       "\n",
       "mpl.default_extension = \"png\";var comm_websocket_adapter = function(comm) {\n",
       "    // Create a \"websocket\"-like object which calls the given IPython comm\n",
       "    // object with the appropriate methods. Currently this is a non binary\n",
       "    // socket, so there is still some room for performance tuning.\n",
       "    var ws = {};\n",
       "\n",
       "    ws.close = function() {\n",
       "        comm.close()\n",
       "    };\n",
       "    ws.send = function(m) {\n",
       "        //console.log('sending', m);\n",
       "        comm.send(m);\n",
       "    };\n",
       "    // Register the callback with on_msg.\n",
       "    comm.on_msg(function(msg) {\n",
       "        //console.log('receiving', msg['content']['data'], msg);\n",
       "        // Pass the mpl event to the overridden (by mpl) onmessage function.\n",
       "        ws.onmessage(msg['content']['data'])\n",
       "    });\n",
       "    return ws;\n",
       "}\n",
       "\n",
       "mpl.mpl_figure_comm = function(comm, msg) {\n",
       "    // This is the function which gets called when the mpl process\n",
       "    // starts-up an IPython Comm through the \"matplotlib\" channel.\n",
       "\n",
       "    var id = msg.content.data.id;\n",
       "    // Get hold of the div created by the display call when the Comm\n",
       "    // socket was opened in Python.\n",
       "    var element = $(\"#\" + id);\n",
       "    var ws_proxy = comm_websocket_adapter(comm)\n",
       "\n",
       "    function ondownload(figure, format) {\n",
       "        window.open(figure.imageObj.src);\n",
       "    }\n",
       "\n",
       "    var fig = new mpl.figure(id, ws_proxy,\n",
       "                           ondownload,\n",
       "                           element.get(0));\n",
       "\n",
       "    // Call onopen now - mpl needs it, as it is assuming we've passed it a real\n",
       "    // web socket which is closed, not our websocket->open comm proxy.\n",
       "    ws_proxy.onopen();\n",
       "\n",
       "    fig.parent_element = element.get(0);\n",
       "    fig.cell_info = mpl.find_output_cell(\"<div id='\" + id + \"'></div>\");\n",
       "    if (!fig.cell_info) {\n",
       "        console.error(\"Failed to find cell for figure\", id, fig);\n",
       "        return;\n",
       "    }\n",
       "\n",
       "    var output_index = fig.cell_info[2]\n",
       "    var cell = fig.cell_info[0];\n",
       "\n",
       "};\n",
       "\n",
       "mpl.figure.prototype.handle_close = function(fig, msg) {\n",
       "    var width = fig.canvas.width/mpl.ratio\n",
       "    fig.root.unbind('remove')\n",
       "\n",
       "    // Update the output cell to use the data from the current canvas.\n",
       "    fig.push_to_output();\n",
       "    var dataURL = fig.canvas.toDataURL();\n",
       "    // Re-enable the keyboard manager in IPython - without this line, in FF,\n",
       "    // the notebook keyboard shortcuts fail.\n",
       "    IPython.keyboard_manager.enable()\n",
       "    $(fig.parent_element).html('<img src=\"' + dataURL + '\" width=\"' + width + '\">');\n",
       "    fig.close_ws(fig, msg);\n",
       "}\n",
       "\n",
       "mpl.figure.prototype.close_ws = function(fig, msg){\n",
       "    fig.send_message('closing', msg);\n",
       "    // fig.ws.close()\n",
       "}\n",
       "\n",
       "mpl.figure.prototype.push_to_output = function(remove_interactive) {\n",
       "    // Turn the data on the canvas into data in the output cell.\n",
       "    var width = this.canvas.width/mpl.ratio\n",
       "    var dataURL = this.canvas.toDataURL();\n",
       "    this.cell_info[1]['text/html'] = '<img src=\"' + dataURL + '\" width=\"' + width + '\">';\n",
       "}\n",
       "\n",
       "mpl.figure.prototype.updated_canvas_event = function() {\n",
       "    // Tell IPython that the notebook contents must change.\n",
       "    IPython.notebook.set_dirty(true);\n",
       "    this.send_message(\"ack\", {});\n",
       "    var fig = this;\n",
       "    // Wait a second, then push the new image to the DOM so\n",
       "    // that it is saved nicely (might be nice to debounce this).\n",
       "    setTimeout(function () { fig.push_to_output() }, 1000);\n",
       "}\n",
       "\n",
       "mpl.figure.prototype._init_toolbar = function() {\n",
       "    var fig = this;\n",
       "\n",
       "    var nav_element = $('<div/>');\n",
       "    nav_element.attr('style', 'width: 100%');\n",
       "    this.root.append(nav_element);\n",
       "\n",
       "    // Define a callback function for later on.\n",
       "    function toolbar_event(event) {\n",
       "        return fig.toolbar_button_onclick(event['data']);\n",
       "    }\n",
       "    function toolbar_mouse_event(event) {\n",
       "        return fig.toolbar_button_onmouseover(event['data']);\n",
       "    }\n",
       "\n",
       "    for(var toolbar_ind in mpl.toolbar_items){\n",
       "        var name = mpl.toolbar_items[toolbar_ind][0];\n",
       "        var tooltip = mpl.toolbar_items[toolbar_ind][1];\n",
       "        var image = mpl.toolbar_items[toolbar_ind][2];\n",
       "        var method_name = mpl.toolbar_items[toolbar_ind][3];\n",
       "\n",
       "        if (!name) { continue; };\n",
       "\n",
       "        var button = $('<button class=\"btn btn-default\" href=\"#\" title=\"' + name + '\"><i class=\"fa ' + image + ' fa-lg\"></i></button>');\n",
       "        button.click(method_name, toolbar_event);\n",
       "        button.mouseover(tooltip, toolbar_mouse_event);\n",
       "        nav_element.append(button);\n",
       "    }\n",
       "\n",
       "    // Add the status bar.\n",
       "    var status_bar = $('<span class=\"mpl-message\" style=\"text-align:right; float: right;\"/>');\n",
       "    nav_element.append(status_bar);\n",
       "    this.message = status_bar[0];\n",
       "\n",
       "    // Add the close button to the window.\n",
       "    var buttongrp = $('<div class=\"btn-group inline pull-right\"></div>');\n",
       "    var button = $('<button class=\"btn btn-mini btn-primary\" href=\"#\" title=\"Stop Interaction\"><i class=\"fa fa-power-off icon-remove icon-large\"></i></button>');\n",
       "    button.click(function (evt) { fig.handle_close(fig, {}); } );\n",
       "    button.mouseover('Stop Interaction', toolbar_mouse_event);\n",
       "    buttongrp.append(button);\n",
       "    var titlebar = this.root.find($('.ui-dialog-titlebar'));\n",
       "    titlebar.prepend(buttongrp);\n",
       "}\n",
       "\n",
       "mpl.figure.prototype._root_extra_style = function(el){\n",
       "    var fig = this\n",
       "    el.on(\"remove\", function(){\n",
       "\tfig.close_ws(fig, {});\n",
       "    });\n",
       "}\n",
       "\n",
       "mpl.figure.prototype._canvas_extra_style = function(el){\n",
       "    // this is important to make the div 'focusable\n",
       "    el.attr('tabindex', 0)\n",
       "    // reach out to IPython and tell the keyboard manager to turn it's self\n",
       "    // off when our div gets focus\n",
       "\n",
       "    // location in version 3\n",
       "    if (IPython.notebook.keyboard_manager) {\n",
       "        IPython.notebook.keyboard_manager.register_events(el);\n",
       "    }\n",
       "    else {\n",
       "        // location in version 2\n",
       "        IPython.keyboard_manager.register_events(el);\n",
       "    }\n",
       "\n",
       "}\n",
       "\n",
       "mpl.figure.prototype._key_event_extra = function(event, name) {\n",
       "    var manager = IPython.notebook.keyboard_manager;\n",
       "    if (!manager)\n",
       "        manager = IPython.keyboard_manager;\n",
       "\n",
       "    // Check for shift+enter\n",
       "    if (event.shiftKey && event.which == 13) {\n",
       "        this.canvas_div.blur();\n",
       "        // select the cell after this one\n",
       "        var index = IPython.notebook.find_cell_index(this.cell_info[0]);\n",
       "        IPython.notebook.select(index + 1);\n",
       "    }\n",
       "}\n",
       "\n",
       "mpl.figure.prototype.handle_save = function(fig, msg) {\n",
       "    fig.ondownload(fig, null);\n",
       "}\n",
       "\n",
       "\n",
       "mpl.find_output_cell = function(html_output) {\n",
       "    // Return the cell and output element which can be found *uniquely* in the notebook.\n",
       "    // Note - this is a bit hacky, but it is done because the \"notebook_saving.Notebook\"\n",
       "    // IPython event is triggered only after the cells have been serialised, which for\n",
       "    // our purposes (turning an active figure into a static one), is too late.\n",
       "    var cells = IPython.notebook.get_cells();\n",
       "    var ncells = cells.length;\n",
       "    for (var i=0; i<ncells; i++) {\n",
       "        var cell = cells[i];\n",
       "        if (cell.cell_type === 'code'){\n",
       "            for (var j=0; j<cell.output_area.outputs.length; j++) {\n",
       "                var data = cell.output_area.outputs[j];\n",
       "                if (data.data) {\n",
       "                    // IPython >= 3 moved mimebundle to data attribute of output\n",
       "                    data = data.data;\n",
       "                }\n",
       "                if (data['text/html'] == html_output) {\n",
       "                    return [cell, data, j];\n",
       "                }\n",
       "            }\n",
       "        }\n",
       "    }\n",
       "}\n",
       "\n",
       "// Register the function which deals with the matplotlib target/channel.\n",
       "// The kernel may be null if the page has been refreshed.\n",
       "if (IPython.notebook.kernel != null) {\n",
       "    IPython.notebook.kernel.comm_manager.register_target('matplotlib', mpl.mpl_figure_comm);\n",
       "}\n"
      ],
      "text/plain": [
       "<IPython.core.display.Javascript object>"
      ]
     },
     "metadata": {},
     "output_type": "display_data"
    },
    {
     "data": {
      "text/html": [
       "<img src=\"data:image/png;base64,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\" width=\"800\">"
      ],
      "text/plain": [
       "<IPython.core.display.HTML object>"
      ]
     },
     "metadata": {},
     "output_type": "display_data"
    },
    {
     "data": {
      "application/vnd.jupyter.widget-view+json": {
       "model_id": "87fa5baaebb841a6a05ff19c3fea97c9",
       "version_major": 2,
       "version_minor": 0
      },
      "text/plain": [
       "VBox(children=(HBox(children=(IntSlider(value=0, description='row', disabled=True, layout=Layout(display='none…"
      ]
     },
     "metadata": {},
     "output_type": "display_data"
    },
    {
     "data": {
      "text/plain": []
     },
     "execution_count": 13,
     "metadata": {},
     "output_type": "execute_result"
    }
   ],
   "source": [
    "from scipp.plot import plot\n",
    "plot(d)"
   ]
  },
  {
   "cell_type": "markdown",
   "metadata": {},
   "source": [
    "This plot demonstrates the advantage of \"labeled\" data, provided by a dataset:\n",
    "Axes are automatically labeled and multiple items identified by their name are plotted.\n",
    "Furthermore, scipp's support for units and uncertainties means that all relevant information is directly included in a default plot.\n",
    "\n",
    "Operations between rows are supported by indexing into a dataset with a dimension label and an index.\n",
    "\n",
    "Slicing dimensions behaves similar to `numpy`:\n",
    "If a single index is given, the dimension is dropped, if a range is given, the dimension is kept.\n",
    "For a `Dataset`, in the former case the corresponding coordinates are dropped, whereas in the latter case it is preserved:"
   ]
  },
  {
   "cell_type": "code",
   "execution_count": 14,
   "metadata": {},
   "outputs": [],
   "source": [
    "a = np.arange(8)"
   ]
  },
  {
   "cell_type": "code",
   "execution_count": 15,
   "metadata": {},
   "outputs": [
    {
     "data": {
      "text/plain": [
       "4"
      ]
     },
     "execution_count": 15,
     "metadata": {},
     "output_type": "execute_result"
    }
   ],
   "source": [
    "a[4]"
   ]
  },
  {
   "cell_type": "code",
   "execution_count": 16,
   "metadata": {},
   "outputs": [
    {
     "data": {
      "text/plain": [
       "array([4])"
      ]
     },
     "execution_count": 16,
     "metadata": {},
     "output_type": "execute_result"
    }
   ],
   "source": [
    "a[4:5]"
   ]
  },
  {
   "cell_type": "code",
   "execution_count": 17,
   "metadata": {},
   "outputs": [
    {
     "data": {
      "application/vnd.jupyter.widget-view+json": {
       "model_id": "fbf9b243d3de4ccbaaec24f2a54f3e1e",
       "version_major": 2,
       "version_minor": 0
      },
      "text/plain": [
       "VBox(children=(HTML(value=\"<span style='font-weight:bold;font-size:1.5em;'>Dataset</span>\"), VBox(children=(HT…"
      ]
     },
     "metadata": {},
     "output_type": "display_data"
    }
   ],
   "source": [
    "d['row', 1] += d['row', 2]\n",
    "sc.table(d)"
   ]
  },
  {
   "cell_type": "markdown",
   "metadata": {},
   "source": [
    "Note the key advantage over `numpy` or `MATLAB`:\n",
    "We specify the index dimension, so we always know which dimension we are slicing.\n",
    "The advantage is not so apparent in 1D, but will become clear once we move to higher-dimensional data.\n",
    "\n",
    "### Summary\n",
    "\n",
    "There is a number of ways to select and operate on a single row, a range of rows, a single variable (column) or multiple variables (columns) of a dataset: "
   ]
  },
  {
   "cell_type": "code",
   "execution_count": 18,
   "metadata": {
    "code_folding": [],
    "scrolled": false
   },
   "outputs": [
    {
     "data": {
      "application/vnd.jupyter.widget-view+json": {
       "model_id": "5b3b666a2ca84172af2480d164c13a62",
       "version_major": 2,
       "version_minor": 0
      },
      "text/plain": [
       "VBox(children=(HTML(value=\"<span style='font-weight:bold;font-size:1.5em;'>DatasetView</span>\"), VBox(children…"
      ]
     },
     "metadata": {},
     "output_type": "display_data"
    },
    {
     "data": {
      "application/vnd.jupyter.widget-view+json": {
       "model_id": "7a8af26a6ce34f429d908323a03f4c0a",
       "version_major": 2,
       "version_minor": 0
      },
      "text/plain": [
       "VBox(children=(HTML(value=\"<span style='font-weight:bold;font-size:1.5em;'>DatasetView</span>\"), VBox(children…"
      ]
     },
     "metadata": {},
     "output_type": "display_data"
    },
    {
     "data": {
      "application/vnd.jupyter.widget-view+json": {
       "model_id": "bfc9d80297714212a56c55a986bbfce8",
       "version_major": 2,
       "version_minor": 0
      },
      "text/plain": [
       "VBox(children=(HTML(value=\"<span style='font-weight:bold;font-size:1.5em;'>DatasetView</span>\"), VBox(children…"
      ]
     },
     "metadata": {},
     "output_type": "display_data"
    },
    {
     "data": {
      "application/vnd.jupyter.widget-view+json": {
       "model_id": "2a5ac8796b534a4ca4b95b1dc7c49fe3",
       "version_major": 2,
       "version_minor": 0
      },
      "text/plain": [
       "VBox(children=(HTML(value=\"<span style='font-weight:bold;font-size:1.5em;'>DataArrayView</span>\"), VBox(childr…"
      ]
     },
     "metadata": {},
     "output_type": "display_data"
    },
    {
     "data": {
      "application/vnd.jupyter.widget-view+json": {
       "model_id": "28cd83f0944540f8a8143d5d5d1f3ab9",
       "version_major": 2,
       "version_minor": 0
      },
      "text/plain": [
       "VBox(children=(HTML(value=\"<span style='font-weight:bold;font-size:1.5em;'>VariableView</span>\"), VBox(childre…"
      ]
     },
     "metadata": {},
     "output_type": "display_data"
    },
    {
     "data": {
      "application/vnd.jupyter.widget-view+json": {
       "model_id": "5211d0f7acc548acbe9dd5599aedbaa5",
       "version_major": 2,
       "version_minor": 0
      },
      "text/plain": [
       "VBox(children=(HTML(value=\"<span style='font-weight:bold;font-size:1.5em;'>numpy.ndarray</span>\"), VBox(childr…"
      ]
     },
     "metadata": {},
     "output_type": "display_data"
    }
   ],
   "source": [
    "# Single row (dropping corresponding coordinates)\n",
    "sc.table(d['row', 0])\n",
    "# Size-1 row range (keeping corresponding coordinates)\n",
    "sc.table(d['row', 0:1])\n",
    "# Range of rows\n",
    "sc.table(d['row', 1:3])\n",
    "# Single column (column pair if variance is present) including coordinate columns\n",
    "sc.table(d[\"alice\"])\n",
    "# Single variable (column pair if variance is present)\n",
    "sc.table(d[\"alice\"].data)\n",
    "# Column values without header\n",
    "sc.table(d[\"alice\"].values)"
   ]
  },
  {
   "cell_type": "markdown",
   "metadata": {},
   "source": [
    "### Exercise 1\n",
    "1. Combining row slicing and \"column\" indexing, add the last row of the data for `'alice'` to the first row of data for `'bob'`.\n",
    "2. Using the slice-range notation `a:b`, try adding the last two rows to the first two rows. Why does this fail?"
   ]
  },
  {
   "cell_type": "markdown",
   "metadata": {},
   "source": [
    "### Solution 1"
   ]
  },
  {
   "cell_type": "code",
   "execution_count": 19,
   "metadata": {},
   "outputs": [
    {
     "data": {
      "application/vnd.jupyter.widget-view+json": {
       "model_id": "d510c8e17a474697abb1273c223a4e6c",
       "version_major": 2,
       "version_minor": 0
      },
      "text/plain": [
       "VBox(children=(HTML(value=\"<span style='font-weight:bold;font-size:1.5em;'>Dataset</span>\"), VBox(children=(HT…"
      ]
     },
     "metadata": {},
     "output_type": "display_data"
    }
   ],
   "source": [
    "d['bob']['row', 0] += d['alice']['row', -1]\n",
    "sc.table(d)"
   ]
  },
  {
   "cell_type": "markdown",
   "metadata": {},
   "source": [
    "If a range is given when slicing, the corresponding coordinate is preserved, and operations between misaligned data is prevented."
   ]
  },
  {
   "cell_type": "code",
   "execution_count": 20,
   "metadata": {},
   "outputs": [
    {
     "name": "stdout",
     "output_type": "stream",
     "text": [
      "Expected coords to match.\n"
     ]
    }
   ],
   "source": [
    "try:\n",
    "    d['bob']['row', 0:2] += d['alice']['row', 1:3]\n",
    "except RuntimeError as e:\n",
    "    print(str(e))"
   ]
  },
  {
   "cell_type": "markdown",
   "metadata": {},
   "source": [
    "To circumvent the safety catch we can operate on the underlying variables containing the data.\n",
    "The data is accessed using the `data` property:"
   ]
  },
  {
   "cell_type": "code",
   "execution_count": 21,
   "metadata": {},
   "outputs": [
    {
     "data": {
      "application/vnd.jupyter.widget-view+json": {
       "model_id": "ebc747915d7a459e84ab9cf37407bfc2",
       "version_major": 2,
       "version_minor": 0
      },
      "text/plain": [
       "VBox(children=(HTML(value=\"<span style='font-weight:bold;font-size:1.5em;'>Dataset</span>\"), VBox(children=(HT…"
      ]
     },
     "metadata": {},
     "output_type": "display_data"
    }
   ],
   "source": [
    "d['bob']['row', 0:2].data += d['alice']['row', 1:3].data\n",
    "sc.table(d)"
   ]
  },
  {
   "cell_type": "markdown",
   "metadata": {},
   "source": [
    "### Exercise 2\n",
    "\n",
    "The slicing notation for variables (columns) and rows does not return a copy, but a view object.\n",
    "This is very similar to how `numpy` operates:"
   ]
  },
  {
   "cell_type": "code",
   "execution_count": 22,
   "metadata": {},
   "outputs": [
    {
     "data": {
      "text/plain": [
       "array([100, 101, 102,   3,   4,   5,   6,   7])"
      ]
     },
     "execution_count": 22,
     "metadata": {},
     "output_type": "execute_result"
    }
   ],
   "source": [
    "a_slice = a[0:3]\n",
    "a_slice += 100\n",
    "a"
   ]
  },
  {
   "cell_type": "markdown",
   "metadata": {},
   "source": [
    "Using the slicing notation, create a new table (or replace the existing dataset `d`) by one that does not contain the first and last row of `d`."
   ]
  },
  {
   "cell_type": "markdown",
   "metadata": {},
   "source": [
    "### Solution 2"
   ]
  },
  {
   "cell_type": "code",
   "execution_count": 23,
   "metadata": {},
   "outputs": [
    {
     "data": {
      "application/vnd.jupyter.widget-view+json": {
       "model_id": "037de6be5f2e49bdaee26732d5728c7f",
       "version_major": 2,
       "version_minor": 0
      },
      "text/plain": [
       "VBox(children=(HTML(value=\"<span style='font-weight:bold;font-size:1.5em;'>Dataset</span>\"), VBox(children=(HT…"
      ]
     },
     "metadata": {},
     "output_type": "display_data"
    }
   ],
   "source": [
    "d2 = d['row', 1:-1].copy()\n",
    "\n",
    "# Or:\n",
    "# from copy import copy\n",
    "# table = copy(d['row', 1:-1])\n",
    "\n",
    "sc.table(d2)"
   ]
  },
  {
   "cell_type": "markdown",
   "metadata": {},
   "source": [
    "Note that the call to `copy()` is essential.\n",
    "If it is omitted we simply have a view onto the same data, and the orignal data is modified if the view is modified:"
   ]
  },
  {
   "cell_type": "code",
   "execution_count": 24,
   "metadata": {},
   "outputs": [
    {
     "data": {
      "application/vnd.jupyter.widget-view+json": {
       "model_id": "9c881a04bbd846278afe225bc6944711",
       "version_major": 2,
       "version_minor": 0
      },
      "text/plain": [
       "VBox(children=(HTML(value=\"<span style='font-weight:bold;font-size:1.5em;'>Dataset</span>\"), VBox(children=(HT…"
      ]
     },
     "metadata": {},
     "output_type": "display_data"
    }
   ],
   "source": [
    "just_a_view = d['row', 1:-1]\n",
    "just_a_view['alice'].values[0] = 666\n",
    "sc.table(d)"
   ]
  },
  {
   "cell_type": "markdown",
   "metadata": {},
   "source": [
    "### Appending rows and columns\n",
    "We can append rows using `concatenate`, and add columns using `merge`:"
   ]
  },
  {
   "cell_type": "code",
   "execution_count": 25,
   "metadata": {},
   "outputs": [
    {
     "data": {
      "application/vnd.jupyter.widget-view+json": {
       "model_id": "f75dd5fede724a4381aa9864bb273311",
       "version_major": 2,
       "version_minor": 0
      },
      "text/plain": [
       "VBox(children=(HTML(value=\"<span style='font-weight:bold;font-size:1.5em;'>Dataset</span>\"), VBox(children=(HT…"
      ]
     },
     "metadata": {},
     "output_type": "display_data"
    }
   ],
   "source": [
    "d = sc.concatenate(d['row', 0:3], d['row', 1:3], 'row')\n",
    "\n",
    "eve = sc.Dataset({'eve': sc.Variable(['row'], values=np.arange(5).astype(np.float64))})\n",
    "d = sc.merge(d, eve)\n",
    "\n",
    "sc.table(d)"
   ]
  },
  {
   "cell_type": "markdown",
   "metadata": {},
   "source": [
    "### Exercise 3\n",
    "Add the sum of the data for `alice` and `bob` as a new variable (column) to the dataset."
   ]
  },
  {
   "cell_type": "markdown",
   "metadata": {},
   "source": [
    "### Solution 3"
   ]
  },
  {
   "cell_type": "code",
   "execution_count": 26,
   "metadata": {},
   "outputs": [
    {
     "data": {
      "application/vnd.jupyter.widget-view+json": {
       "model_id": "022fab06309a4cb89f1f5f44588c1f74",
       "version_major": 2,
       "version_minor": 0
      },
      "text/plain": [
       "VBox(children=(HTML(value=\"<span style='font-weight:bold;font-size:1.5em;'>Dataset</span>\"), VBox(children=(HT…"
      ]
     },
     "metadata": {},
     "output_type": "display_data"
    }
   ],
   "source": [
    "d['sum'] = d['alice'] + d['bob']\n",
    "sc.table(d)"
   ]
  },
  {
   "cell_type": "markdown",
   "metadata": {},
   "source": [
    "### Interaction with `numpy` and scalars\n",
    "\n",
    "Values (or variances) in a dataset are exposed in a `numpy`-compatible buffer format.\n",
    "Direct access to the `numpy`-like underlying data array is possible using the `values` and `variances` properties:"
   ]
  },
  {
   "cell_type": "code",
   "execution_count": 27,
   "metadata": {},
   "outputs": [
    {
     "data": {
      "text/plain": [
       "array([0., 1., 2., 3., 4.])"
      ]
     },
     "execution_count": 27,
     "metadata": {},
     "output_type": "execute_result"
    }
   ],
   "source": [
    "d['eve'].values"
   ]
  },
  {
   "cell_type": "code",
   "execution_count": 28,
   "metadata": {},
   "outputs": [
    {
     "data": {
      "text/plain": [
       "array([0.02  , 0.0818, 0.0576, 0.0818, 0.0576])"
      ]
     },
     "execution_count": 28,
     "metadata": {},
     "output_type": "execute_result"
    }
   ],
   "source": [
    "d['alice'].variances"
   ]
  },
  {
   "cell_type": "markdown",
   "metadata": {},
   "source": [
    "We can directly hand the buffers to `numpy` functions:"
   ]
  },
  {
   "cell_type": "code",
   "execution_count": 29,
   "metadata": {
    "scrolled": false
   },
   "outputs": [
    {
     "data": {
      "application/vnd.jupyter.widget-view+json": {
       "model_id": "3b617888d30242c7bfa653630c9c933f",
       "version_major": 2,
       "version_minor": 0
      },
      "text/plain": [
       "VBox(children=(HTML(value=\"<span style='font-weight:bold;font-size:1.5em;'>Dataset</span>\"), VBox(children=(HT…"
      ]
     },
     "metadata": {},
     "output_type": "display_data"
    }
   ],
   "source": [
    "d['eve'].values = np.exp(d['eve'].values)\n",
    "sc.table(d)"
   ]
  },
  {
   "cell_type": "markdown",
   "metadata": {},
   "source": [
    "### Exercise 4\n",
    "1. As above for `np.exp` applied to the data for Eve, apply a `numpy` function to the data for Alice.\n",
    "2. What happens to the unit and uncertanties when modifying data with external code such as `numpy`?"
   ]
  },
  {
   "cell_type": "markdown",
   "metadata": {},
   "source": [
    "### Solution 4"
   ]
  },
  {
   "cell_type": "code",
   "execution_count": 30,
   "metadata": {},
   "outputs": [
    {
     "data": {
      "application/vnd.jupyter.widget-view+json": {
       "model_id": "8c414b3d464a45d68df1ea02b958a0a3",
       "version_major": 2,
       "version_minor": 0
      },
      "text/plain": [
       "VBox(children=(HTML(value=\"<span style='font-weight:bold;font-size:1.5em;'>Dataset</span>\"), VBox(children=(HT…"
      ]
     },
     "metadata": {},
     "output_type": "display_data"
    }
   ],
   "source": [
    "d['alice'].values = np.sin(d['alice'].values)\n",
    "sc.table(d)"
   ]
  },
  {
   "cell_type": "markdown",
   "metadata": {},
   "source": [
    "Numpy operations are not aware of the unit and uncertainties. Therefore the result is \"garbage\", unless the user has ensured herself that units and uncertainties are handled manually.\n",
    "\n",
    "Corollary: Whenever available, built-in operators and functions should be preferred over the use of `numpy`."
   ]
  },
  {
   "cell_type": "markdown",
   "metadata": {},
   "source": [
    "### Exercise 5\n",
    "1. Try adding a scalar value such as `1.5` to the `values` for `'eve'` or and `'alice'`.\n",
    "2. Try the same using the `data` property, instead of the `values` property.\n",
    "   Why is it not working for `'alice'`?"
   ]
  },
  {
   "cell_type": "markdown",
   "metadata": {},
   "source": [
    "### Solution 5"
   ]
  },
  {
   "cell_type": "code",
   "execution_count": 31,
   "metadata": {},
   "outputs": [
    {
     "data": {
      "application/vnd.jupyter.widget-view+json": {
       "model_id": "01ed060a52a84202be5098aff0f6be9f",
       "version_major": 2,
       "version_minor": 0
      },
      "text/plain": [
       "VBox(children=(HTML(value=\"<span style='font-weight:bold;font-size:1.5em;'>Dataset</span>\"), VBox(children=(HT…"
      ]
     },
     "metadata": {},
     "output_type": "display_data"
    }
   ],
   "source": [
    "d['eve'].values += 1.5\n",
    "d['alice'].values += 1.5\n",
    "sc.table(d)"
   ]
  },
  {
   "cell_type": "markdown",
   "metadata": {},
   "source": [
    "Instead of `values` we can use the `data` property.\n",
    "This will also correctly deal with variances, if applicable, whereas the direction operation with `values` is unaware of the presence of variances:"
   ]
  },
  {
   "cell_type": "code",
   "execution_count": 32,
   "metadata": {},
   "outputs": [],
   "source": [
    "d['eve'].data += 1.5"
   ]
  },
  {
   "cell_type": "markdown",
   "metadata": {},
   "source": [
    "The `data` for Alice has a unit, so a direct addition with a dimensionless quantity fails:"
   ]
  },
  {
   "cell_type": "code",
   "execution_count": 33,
   "metadata": {},
   "outputs": [
    {
     "name": "stdout",
     "output_type": "stream",
     "text": [
      "Cannot add m^2 and dimensionless.\n"
     ]
    }
   ],
   "source": [
    "try:\n",
    "    d['alice'].data += 1.5\n",
    "except RuntimeError as e:\n",
    "    print(str(e))"
   ]
  },
  {
   "cell_type": "markdown",
   "metadata": {},
   "source": [
    "We can use `Variable` to provide a scalar quantity with attached unit:"
   ]
  },
  {
   "cell_type": "code",
   "execution_count": 34,
   "metadata": {},
   "outputs": [],
   "source": [
    "scale = sc.Variable(value=1.5, unit=sc.units.m*sc.units.m)"
   ]
  },
  {
   "cell_type": "markdown",
   "metadata": {},
   "source": [
    "As a short-hand for creating a scalar variable, just multiply a value by a unit:"
   ]
  },
  {
   "cell_type": "code",
   "execution_count": 35,
   "metadata": {},
   "outputs": [
    {
     "data": {
      "application/vnd.jupyter.widget-view+json": {
       "model_id": "b87f5035605f4728a2d0ac49b869cb92",
       "version_major": 2,
       "version_minor": 0
      },
      "text/plain": [
       "VBox(children=(HTML(value=\"<span style='font-weight:bold;font-size:1.5em;'>Dataset</span>\"), VBox(children=(HT…"
      ]
     },
     "metadata": {},
     "output_type": "display_data"
    }
   ],
   "source": [
    "scale = 1.5 * (sc.units.m*sc.units.m)\n",
    "d['alice'].data += scale\n",
    "\n",
    "sc.table(d)"
   ]
  },
  {
   "cell_type": "markdown",
   "metadata": {},
   "source": [
    "Continue to [Part 2 - Multi-dimensional datasets](multi-d-datasets.ipynb) to see how datasets are used with multi-dimensional data."
   ]
  }
 ],
 "metadata": {
  "kernelspec": {
   "display_name": "Python 3",
   "language": "python",
   "name": "python3"
  },
  "language_info": {
   "codemirror_mode": {
    "name": "ipython",
    "version": 3
   },
   "file_extension": ".py",
   "mimetype": "text/x-python",
   "name": "python",
   "nbconvert_exporter": "python",
   "pygments_lexer": "ipython3",
   "version": "3.7.3"
  },
  "nbsphinx": {
   "allow_errors": true
  }
 },
 "nbformat": 4,
 "nbformat_minor": 2
}
