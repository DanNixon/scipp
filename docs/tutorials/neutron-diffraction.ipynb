{
 "cells": [
  {
   "cell_type": "markdown",
   "metadata": {},
   "source": [
    "# Neutron Data Quick Start\n",
    "\n",
    "In this tutorial demonstrates how neutron-scattering data can be loaded, visualized, and manipulated with generic functionality from `scipp` as well as neutron-specific functionality from `scipp.neutron`."
   ]
  },
  {
   "cell_type": "code",
   "execution_count": 1,
   "metadata": {},
   "outputs": [
    {
     "data": {
      "text/html": [
       "<style>.output_wrapper .ui-dialog-titlebar {display: none;}</style>"
      ],
      "text/plain": [
       "<IPython.core.display.HTML object>"
      ]
     },
     "metadata": {},
     "output_type": "display_data"
    }
   ],
   "source": [
    "import numpy as np\n",
    "import scipp as sc\n",
    "from scipp.plot import plot"
   ]
  },
  {
   "cell_type": "markdown",
   "metadata": {},
   "source": [
    "### Loading Nexus files\n",
    "\n",
    "Loading Nexus files requires Mantid.\n",
    "See, e.g., [Installation](https://scipp.github.io/getting-started/installation.html) on how to install scipp and mantid with conda.\n",
    "We are using two files in this tutorial,\n",
    "[PG3_4844_event.nxs](http://198.74.56.37/ftp/external-data/MD5/d5ae38871d0a09a28ae01f85d969de1e)\n",
    "and\n",
    "[PG3_4866_event.nxs](http://198.74.56.37/ftp/external-data/MD5/3d543bc6a646e622b3f4542bc3435e7e).\n",
    "Both are available as part of Mantid's test data.\n",
    "\n",
    "We start by loading two files and insert them into a dataset."
   ]
  },
  {
   "cell_type": "code",
   "execution_count": 2,
   "metadata": {},
   "outputs": [
    {
     "ename": "ValueError",
     "evalue": "Problem when setting Filename. This is the detailed error description: Invalid value for property Filename (list of str lists) from string \"PG3_4844_event.nxs\": When setting value of property \"Slave\": File \"PG3_4844_event.nxs\" not found\nIf the file has been found but you got this error, you might not have read permissions or the file might be corrupted.\nIf the file has not been found, you might have forgotten to add its location in the data search directories.",
     "output_type": "error",
     "traceback": [
      "\u001b[0;31m---------------------------------------------------------------------------\u001b[0m",
      "\u001b[0;31mValueError\u001b[0m                                Traceback (most recent call last)",
      "\u001b[0;32m~/software/mantid-python3/lib/mantid/simpleapi.py\u001b[0m in \u001b[0;36mLoad\u001b[0;34m(*args, **kwargs)\u001b[0m\n\u001b[1;32m    216\u001b[0m     \u001b[0;32mtry\u001b[0m\u001b[0;34m:\u001b[0m\u001b[0;34m\u001b[0m\u001b[0;34m\u001b[0m\u001b[0m\n\u001b[0;32m--> 217\u001b[0;31m         \u001b[0malgm\u001b[0m\u001b[0;34m.\u001b[0m\u001b[0msetProperty\u001b[0m\u001b[0;34m(\u001b[0m\u001b[0;34m'Filename'\u001b[0m\u001b[0;34m,\u001b[0m \u001b[0mfilename\u001b[0m\u001b[0;34m)\u001b[0m  \u001b[0;31m# Must be set first\u001b[0m\u001b[0;34m\u001b[0m\u001b[0;34m\u001b[0m\u001b[0m\n\u001b[0m\u001b[1;32m    218\u001b[0m     \u001b[0;32mexcept\u001b[0m \u001b[0mValueError\u001b[0m \u001b[0;32mas\u001b[0m \u001b[0mve\u001b[0m\u001b[0;34m:\u001b[0m\u001b[0;34m\u001b[0m\u001b[0;34m\u001b[0m\u001b[0m\n",
      "\u001b[0;31mValueError\u001b[0m: Invalid value for property Filename (list of str lists) from string \"PG3_4844_event.nxs\": When setting value of property \"Slave\": File \"PG3_4844_event.nxs\" not found",
      "\nDuring handling of the above exception, another exception occurred:\n",
      "\u001b[0;31mValueError\u001b[0m                                Traceback (most recent call last)",
      "\u001b[0;32m<ipython-input-2-4fe6b2e0e6f2>\u001b[0m in \u001b[0;36m<module>\u001b[0;34m\u001b[0m\n\u001b[1;32m      2\u001b[0m events['sample'] = sc.neutron.load(filename='PG3_4844_event.nxs',\n\u001b[1;32m      3\u001b[0m                                    \u001b[0mload_pulse_times\u001b[0m\u001b[0;34m=\u001b[0m\u001b[0;32mFalse\u001b[0m\u001b[0;34m,\u001b[0m\u001b[0;34m\u001b[0m\u001b[0;34m\u001b[0m\u001b[0m\n\u001b[0;32m----> 4\u001b[0;31m                                    mantid_args={'LoadMonitors': True})\n\u001b[0m\u001b[1;32m      5\u001b[0m events['vanadium'] = sc.neutron.load(filename='PG3_4866_event.nxs',\n\u001b[1;32m      6\u001b[0m                                      load_pulse_times=False)\n",
      "\u001b[0;32m~/software/scipp/scipp/compat/mantid.py\u001b[0m in \u001b[0;36mload\u001b[0;34m(filename, load_pulse_times, instrument_filename, error_connection, mantid_args)\u001b[0m\n\u001b[1;32m    600\u001b[0m         \u001b[0mmantid_args\u001b[0m \u001b[0;34m=\u001b[0m \u001b[0;34m{\u001b[0m\u001b[0;34m}\u001b[0m\u001b[0;34m\u001b[0m\u001b[0;34m\u001b[0m\u001b[0m\n\u001b[1;32m    601\u001b[0m \u001b[0;34m\u001b[0m\u001b[0m\n\u001b[0;32m--> 602\u001b[0;31m     \u001b[0;32mwith\u001b[0m \u001b[0mrun_mantid_alg\u001b[0m\u001b[0;34m(\u001b[0m\u001b[0;34m'Load'\u001b[0m\u001b[0;34m,\u001b[0m \u001b[0mfilename\u001b[0m\u001b[0;34m,\u001b[0m \u001b[0;34m**\u001b[0m\u001b[0mmantid_args\u001b[0m\u001b[0;34m)\u001b[0m \u001b[0;32mas\u001b[0m \u001b[0mloaded\u001b[0m\u001b[0;34m:\u001b[0m\u001b[0;34m\u001b[0m\u001b[0;34m\u001b[0m\u001b[0m\n\u001b[0m\u001b[1;32m    603\u001b[0m         \u001b[0;31m# Determine what Load has provided us\u001b[0m\u001b[0;34m\u001b[0m\u001b[0;34m\u001b[0m\u001b[0;34m\u001b[0m\u001b[0m\n\u001b[1;32m    604\u001b[0m         \u001b[0;32mfrom\u001b[0m \u001b[0mmantid\u001b[0m\u001b[0;34m.\u001b[0m\u001b[0mapi\u001b[0m \u001b[0;32mimport\u001b[0m \u001b[0mWorkspace\u001b[0m\u001b[0;34m\u001b[0m\u001b[0;34m\u001b[0m\u001b[0m\n",
      "\u001b[0;32m/usr/lib/python3.7/contextlib.py\u001b[0m in \u001b[0;36m__enter__\u001b[0;34m(self)\u001b[0m\n\u001b[1;32m    110\u001b[0m         \u001b[0;32mdel\u001b[0m \u001b[0mself\u001b[0m\u001b[0;34m.\u001b[0m\u001b[0margs\u001b[0m\u001b[0;34m,\u001b[0m \u001b[0mself\u001b[0m\u001b[0;34m.\u001b[0m\u001b[0mkwds\u001b[0m\u001b[0;34m,\u001b[0m \u001b[0mself\u001b[0m\u001b[0;34m.\u001b[0m\u001b[0mfunc\u001b[0m\u001b[0;34m\u001b[0m\u001b[0;34m\u001b[0m\u001b[0m\n\u001b[1;32m    111\u001b[0m         \u001b[0;32mtry\u001b[0m\u001b[0;34m:\u001b[0m\u001b[0;34m\u001b[0m\u001b[0;34m\u001b[0m\u001b[0m\n\u001b[0;32m--> 112\u001b[0;31m             \u001b[0;32mreturn\u001b[0m \u001b[0mnext\u001b[0m\u001b[0;34m(\u001b[0m\u001b[0mself\u001b[0m\u001b[0;34m.\u001b[0m\u001b[0mgen\u001b[0m\u001b[0;34m)\u001b[0m\u001b[0;34m\u001b[0m\u001b[0;34m\u001b[0m\u001b[0m\n\u001b[0m\u001b[1;32m    113\u001b[0m         \u001b[0;32mexcept\u001b[0m \u001b[0mStopIteration\u001b[0m\u001b[0;34m:\u001b[0m\u001b[0;34m\u001b[0m\u001b[0;34m\u001b[0m\u001b[0m\n\u001b[1;32m    114\u001b[0m             \u001b[0;32mraise\u001b[0m \u001b[0mRuntimeError\u001b[0m\u001b[0;34m(\u001b[0m\u001b[0;34m\"generator didn't yield\"\u001b[0m\u001b[0;34m)\u001b[0m \u001b[0;32mfrom\u001b[0m \u001b[0;32mNone\u001b[0m\u001b[0;34m\u001b[0m\u001b[0;34m\u001b[0m\u001b[0m\n",
      "\u001b[0;32m~/software/scipp/scipp/compat/mantid.py\u001b[0m in \u001b[0;36mrun_mantid_alg\u001b[0;34m(alg, *args, **kwargs)\u001b[0m\n\u001b[1;32m     34\u001b[0m     \u001b[0;32melse\u001b[0m\u001b[0;34m:\u001b[0m\u001b[0;34m\u001b[0m\u001b[0;34m\u001b[0m\u001b[0m\n\u001b[1;32m     35\u001b[0m         \u001b[0mkwargs\u001b[0m\u001b[0;34m[\u001b[0m\u001b[0;34m'OutputWorkspace'\u001b[0m\u001b[0;34m]\u001b[0m \u001b[0;34m=\u001b[0m \u001b[0mws_name\u001b[0m\u001b[0;34m\u001b[0m\u001b[0;34m\u001b[0m\u001b[0m\n\u001b[0;32m---> 36\u001b[0;31m     \u001b[0mws\u001b[0m \u001b[0;34m=\u001b[0m \u001b[0mgetattr\u001b[0m\u001b[0;34m(\u001b[0m\u001b[0mmantid\u001b[0m\u001b[0;34m,\u001b[0m \u001b[0malg\u001b[0m\u001b[0;34m)\u001b[0m\u001b[0;34m(\u001b[0m\u001b[0;34m*\u001b[0m\u001b[0margs\u001b[0m\u001b[0;34m,\u001b[0m \u001b[0;34m**\u001b[0m\u001b[0mkwargs\u001b[0m\u001b[0;34m)\u001b[0m\u001b[0;34m\u001b[0m\u001b[0;34m\u001b[0m\u001b[0m\n\u001b[0m\u001b[1;32m     37\u001b[0m     \u001b[0;32mtry\u001b[0m\u001b[0;34m:\u001b[0m\u001b[0;34m\u001b[0m\u001b[0;34m\u001b[0m\u001b[0m\n\u001b[1;32m     38\u001b[0m         \u001b[0;32myield\u001b[0m \u001b[0mws\u001b[0m\u001b[0;34m\u001b[0m\u001b[0;34m\u001b[0m\u001b[0m\n",
      "\u001b[0;32m~/software/mantid-python3/lib/mantid/simpleapi.py\u001b[0m in \u001b[0;36mLoad\u001b[0;34m(*args, **kwargs)\u001b[0m\n\u001b[1;32m    218\u001b[0m     \u001b[0;32mexcept\u001b[0m \u001b[0mValueError\u001b[0m \u001b[0;32mas\u001b[0m \u001b[0mve\u001b[0m\u001b[0;34m:\u001b[0m\u001b[0;34m\u001b[0m\u001b[0;34m\u001b[0m\u001b[0m\n\u001b[1;32m    219\u001b[0m         raise ValueError('Problem when setting Filename. This is the detailed error '\n\u001b[0;32m--> 220\u001b[0;31m                          \u001b[0;34m'description: '\u001b[0m \u001b[0;34m+\u001b[0m \u001b[0mstr\u001b[0m\u001b[0;34m(\u001b[0m\u001b[0mve\u001b[0m\u001b[0;34m)\u001b[0m \u001b[0;34m+\u001b[0m \u001b[0;34m'\\nIf the file has been found '\u001b[0m\u001b[0;34m\u001b[0m\u001b[0;34m\u001b[0m\u001b[0m\n\u001b[0m\u001b[1;32m    221\u001b[0m                                                      \u001b[0;34m'but you got this error, you might not have read permissions '\u001b[0m\u001b[0;34m\u001b[0m\u001b[0;34m\u001b[0m\u001b[0m\n\u001b[1;32m    222\u001b[0m                                                      \u001b[0;34m'or the file might be corrupted.\\nIf the file has not been found, '\u001b[0m\u001b[0;34m\u001b[0m\u001b[0;34m\u001b[0m\u001b[0m\n",
      "\u001b[0;31mValueError\u001b[0m: Problem when setting Filename. This is the detailed error description: Invalid value for property Filename (list of str lists) from string \"PG3_4844_event.nxs\": When setting value of property \"Slave\": File \"PG3_4844_event.nxs\" not found\nIf the file has been found but you got this error, you might not have read permissions or the file might be corrupted.\nIf the file has not been found, you might have forgotten to add its location in the data search directories."
     ]
    }
   ],
   "source": [
    "events = sc.Dataset()\n",
    "events['sample'] = sc.neutron.load(filename='PG3_4844_event.nxs',\n",
    "                                   load_pulse_times=False,\n",
    "                                   mantid_args={'LoadMonitors': True})\n",
    "events['vanadium'] = sc.neutron.load(filename='PG3_4866_event.nxs',\n",
    "                                     load_pulse_times=False)"
   ]
  },
  {
   "cell_type": "markdown",
   "metadata": {},
   "source": [
    "The optional `mantid_args` dict is forwarded to the Mantid algorithm used for loading the files &ndash; in this case [LoadEventNexus](https://docs.mantidproject.org/nightly/algorithms/LoadEventNexus-v1.html) &ndash; and can be used to control, e.g., which part of a file to load.\n",
    "Here we request loading monitors, which Mantid does not load by default.\n",
    "The resulting dataset looks as follows:"
   ]
  },
  {
   "cell_type": "code",
   "execution_count": null,
   "metadata": {},
   "outputs": [],
   "source": [
    "sc.show(events)"
   ]
  },
  {
   "cell_type": "markdown",
   "metadata": {},
   "source": [
    "### Instrument view\n",
    "\n",
    "Scipp provides a rudimentary version of the Mantid [instrument view](https://www.mantidproject.org/MantidPlot:_Instrument_View), which can be used to take a quick look at the neutron counts on the detector panels in 3D space or using various cylindrical and spherical projections"
   ]
  },
  {
   "cell_type": "code",
   "execution_count": null,
   "metadata": {},
   "outputs": [],
   "source": [
    "sc.neutron.instrument_view(events)"
   ]
  },
  {
   "cell_type": "markdown",
   "metadata": {},
   "source": [
    "### Plot against scattering angle $\\theta$ using `groupby`\n",
    "\n",
    "*This is not an essential step and can be skipped.*\n",
    "\n",
    "Plotting raw data directly yields a hard-to-interpret figure.\n",
    "We can obtain something more useful by \"binning\" the spectrum axis based on its $\\theta$ value, using the split-apply-combine approach provided by `groupby`:"
   ]
  },
  {
   "cell_type": "code",
   "execution_count": null,
   "metadata": {},
   "outputs": [],
   "source": [
    "events.coords['scattering_angle'] = sc.neutron.scattering_angle(events)\n",
    "theta_bins = sc.Variable(['scattering_angle'],\n",
    "                         unit=sc.units.rad,\n",
    "                         values=np.linspace(0.0, np.pi/2, num=2000))"
   ]
  },
  {
   "cell_type": "code",
   "execution_count": null,
   "metadata": {},
   "outputs": [],
   "source": [
    "# Note: Use `sum` instead of `flatten` when working with dense (histogrammed) data\n",
    "theta_events = sc.groupby(\n",
    "    events,\n",
    "    'scattering_angle',\n",
    "    bins=theta_bins).flatten('spectrum')"
   ]
  },
  {
   "cell_type": "code",
   "execution_count": null,
   "metadata": {},
   "outputs": [],
   "source": [
    "theta_events"
   ]
  },
  {
   "cell_type": "code",
   "execution_count": null,
   "metadata": {},
   "outputs": [],
   "source": [
    "plot(theta_events, bins=np.linspace(0.0, 17000.0, 1000))"
   ]
  },
  {
   "cell_type": "markdown",
   "metadata": {},
   "source": [
    "### Unit conversion\n",
    "\n",
    "*Note: We are back to working with `events`, not `theta_events`.*\n",
    "\n",
    "`scipp.neutron` provides means to convert between units (dimensions) related to time-of-flight.\n",
    "The loaded raw data has `Dim.Tof`, and we convert to interplanar lattice spacing (d-spacing):"
   ]
  },
  {
   "cell_type": "code",
   "execution_count": null,
   "metadata": {},
   "outputs": [],
   "source": [
    "dspacing_events = sc.neutron.convert(events, 'tof', 'd-spacing')\n",
    "dspacing_events"
   ]
  },
  {
   "cell_type": "markdown",
   "metadata": {},
   "source": [
    "### Neutron monitors\n",
    "\n",
    "*Processing after this section does not continue based on the monitor-normalized data produced here.\n",
    "This section could thus be skipped.*\n",
    "\n",
    "If available, neutron monitors are stored as attributes of a data array:"
   ]
  },
  {
   "cell_type": "code",
   "execution_count": null,
   "metadata": {},
   "outputs": [],
   "source": [
    "mon = events['sample'].attrs['monitor1'].value\n",
    "mon"
   ]
  },
  {
   "cell_type": "markdown",
   "metadata": {},
   "source": [
    "The monitor could, e.g., be used to normalize the data.\n",
    "To do so, both data and monitor need to be converted to a unit other than time-of-flight, e.g., wavelength or energy.\n",
    "We also rebin the monitor since the original binning is very fine:"
   ]
  },
  {
   "cell_type": "code",
   "execution_count": null,
   "metadata": {},
   "outputs": [],
   "source": [
    "sample = sc.neutron.convert(events['sample'], 'tof', 'wavelength')\n",
    "mon = sc.neutron.convert(mon, 'tof', 'wavelength')\n",
    "mon = sc.rebin(\n",
    "    mon,\n",
    "    'wavelength',\n",
    "    sc.Variable(['wavelength'], unit=sc.units.angstrom, values=np.linspace(0, 1, num=1000)))\n",
    "mon"
   ]
  },
  {
   "cell_type": "markdown",
   "metadata": {},
   "source": [
    "In this case the sample data is sparse (event-mode data), whereas the monitor is a histogram.\n",
    "Multiplication and division operations for such cases are supported by modifying the weights (values) for each event:"
   ]
  },
  {
   "cell_type": "code",
   "execution_count": null,
   "metadata": {},
   "outputs": [],
   "source": [
    "sample_over_mon = sample / mon\n",
    "sample_over_mon"
   ]
  },
  {
   "cell_type": "markdown",
   "metadata": {},
   "source": [
    "Finally, we can plot the sparse data with on-the-fly binning:"
   ]
  },
  {
   "cell_type": "code",
   "execution_count": null,
   "metadata": {},
   "outputs": [],
   "source": [
    "plot(sample_over_mon, bins=np.linspace(0, 1, num=1000))"
   ]
  },
  {
   "cell_type": "markdown",
   "metadata": {},
   "source": [
    "### From events to histogram\n",
    "\n",
    "*Note: We are continuing here with data that has not been normalized to the monitors.*\n",
    "\n",
    "We histogram the event data:"
   ]
  },
  {
   "cell_type": "code",
   "execution_count": null,
   "metadata": {},
   "outputs": [],
   "source": [
    "dspacing_bins = sc.Variable(\n",
    "    ['d-spacing'],\n",
    "    values=np.arange(0.3, 2.0, 0.001),\n",
    "    unit=sc.units.angstrom)\n",
    "hist = sc.histogram(dspacing_events, dspacing_bins)\n",
    "sc.show(hist['spectrum', 0:3]['d-spacing', 0:7])"
   ]
  },
  {
   "cell_type": "code",
   "execution_count": null,
   "metadata": {
    "scrolled": false
   },
   "outputs": [],
   "source": [
    "plot(hist)"
   ]
  },
  {
   "cell_type": "markdown",
   "metadata": {},
   "source": [
    "### Summing (focussing) and normalizing\n",
    "\n",
    "After conversion to `Dim.DSpacing`, generic `sum` and `/` operations can be used to \"focus\" and normalize the diffraction data to the vanadium run:"
   ]
  },
  {
   "cell_type": "code",
   "execution_count": null,
   "metadata": {},
   "outputs": [],
   "source": [
    "summed = sc.sum(hist, 'spectrum')\n",
    "plot(summed)"
   ]
  },
  {
   "cell_type": "code",
   "execution_count": null,
   "metadata": {
    "scrolled": false
   },
   "outputs": [],
   "source": [
    "normalized = summed['sample'] / summed['vanadium']\n",
    "plot(normalized)"
   ]
  },
  {
   "cell_type": "markdown",
   "metadata": {},
   "source": [
    "### Focussing with $\\theta$ dependence in event-mode\n",
    "\n",
    "Instead of focussing all data into a single spectrum, we can use `groupby` to focus each of multiple groups of spectra into a distinct output spectrum.\n",
    "Here we define groups based on a range of scattering angles &ndash; a simple $\\theta$-dependent binning.\n",
    "This also demonstrates how we can postpone histogramming until after the focussing step."
   ]
  },
  {
   "cell_type": "code",
   "execution_count": null,
   "metadata": {},
   "outputs": [],
   "source": [
    "theta = sc.Variable(['scattering_angle'],\n",
    "                    unit=sc.units.rad,\n",
    "                    values=np.linspace(0.0, np.pi/2, num=16))\n",
    "focussed = sc.groupby(\n",
    "    dspacing_events,\n",
    "    'scattering_angle',\n",
    "    bins=theta).flatten('spectrum')\n",
    "focussed = sc.histogram(focussed, dspacing_bins)\n",
    "normalized = focussed['sample'] / focussed['vanadium']"
   ]
  },
  {
   "cell_type": "code",
   "execution_count": null,
   "metadata": {},
   "outputs": [],
   "source": [
    "plot(normalized)"
   ]
  },
  {
   "cell_type": "markdown",
   "metadata": {},
   "source": [
    "As a bonus, we can use slicing and a dict-comprehension to quickly create of plot comparing the spectra for different scattering angle bins:"
   ]
  },
  {
   "cell_type": "code",
   "execution_count": null,
   "metadata": {},
   "outputs": [],
   "source": [
    "# compute centers of theta bins\n",
    "angles = normalized.coords['scattering_angle'].values\n",
    "angles = 0.5*(angles[1:] + angles[:-1])\n",
    "plot(sc.Dataset(\n",
    "    {\n",
    "        '{}'.format(angles[group]):\n",
    "        normalized['d-spacing', 300:500]['scattering_angle', group]\n",
    "        for group in range(2,6)\n",
    "    }))"
   ]
  },
  {
   "cell_type": "code",
   "execution_count": null,
   "metadata": {},
   "outputs": [],
   "source": []
  }
 ],
 "metadata": {
  "kernelspec": {
   "display_name": "Python 3",
   "language": "python",
   "name": "python3"
  },
  "language_info": {
   "codemirror_mode": {
    "name": "ipython",
    "version": 3
   },
   "file_extension": ".py",
   "mimetype": "text/x-python",
   "name": "python",
   "nbconvert_exporter": "python",
   "pygments_lexer": "ipython3",
   "version": "3.7.3"
  },
  "nbsphinx": {
   "execute": "never"
  }
 },
 "nbformat": 4,
 "nbformat_minor": 2
}
